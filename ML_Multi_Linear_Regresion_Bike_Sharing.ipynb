{
 "cells": [
  {
   "cell_type": "code",
   "execution_count": 1,
   "id": "104883f0-f83b-4b78-9a77-04e818ca6056",
   "metadata": {},
   "outputs": [],
   "source": [
    "# To ignore warnings\n",
    "\n",
    "import warnings\n",
    "warnings.filterwarnings('ignore')"
   ]
  },
  {
   "cell_type": "markdown",
   "id": "99fe01e6-6e38-4b7f-b72c-1151d40fc1a0",
   "metadata": {},
   "source": [
    "# Imports"
   ]
  },
  {
   "cell_type": "code",
   "execution_count": 2,
   "id": "03389fb2-c811-4afa-b6d0-183cbd3d0b2c",
   "metadata": {},
   "outputs": [],
   "source": [
    "import pandas as pd\n",
    "import numpy as np\n",
    "import seaborn as sns\n",
    "import matplotlib.pyplot as plt"
   ]
  },
  {
   "cell_type": "markdown",
   "id": "26c2f56d-65a8-4597-9abc-255a47b96353",
   "metadata": {
    "tags": []
   },
   "source": [
    "# Reading & Understanding Data"
   ]
  },
  {
   "cell_type": "code",
   "execution_count": 3,
   "id": "63f6f7f7-765f-49dd-a65c-9d42b13bfb4d",
   "metadata": {},
   "outputs": [
    {
     "data": {
      "text/html": [
       "<div>\n",
       "<style scoped>\n",
       "    .dataframe tbody tr th:only-of-type {\n",
       "        vertical-align: middle;\n",
       "    }\n",
       "\n",
       "    .dataframe tbody tr th {\n",
       "        vertical-align: top;\n",
       "    }\n",
       "\n",
       "    .dataframe thead th {\n",
       "        text-align: right;\n",
       "    }\n",
       "</style>\n",
       "<table border=\"1\" class=\"dataframe\">\n",
       "  <thead>\n",
       "    <tr style=\"text-align: right;\">\n",
       "      <th></th>\n",
       "      <th>instant</th>\n",
       "      <th>dteday</th>\n",
       "      <th>season</th>\n",
       "      <th>yr</th>\n",
       "      <th>mnth</th>\n",
       "      <th>holiday</th>\n",
       "      <th>weekday</th>\n",
       "      <th>workingday</th>\n",
       "      <th>weathersit</th>\n",
       "      <th>temp</th>\n",
       "      <th>atemp</th>\n",
       "      <th>hum</th>\n",
       "      <th>windspeed</th>\n",
       "      <th>casual</th>\n",
       "      <th>registered</th>\n",
       "      <th>cnt</th>\n",
       "    </tr>\n",
       "  </thead>\n",
       "  <tbody>\n",
       "    <tr>\n",
       "      <th>0</th>\n",
       "      <td>1</td>\n",
       "      <td>01-01-2018</td>\n",
       "      <td>1</td>\n",
       "      <td>0</td>\n",
       "      <td>1</td>\n",
       "      <td>0</td>\n",
       "      <td>6</td>\n",
       "      <td>0</td>\n",
       "      <td>2</td>\n",
       "      <td>14.110847</td>\n",
       "      <td>18.18125</td>\n",
       "      <td>80.5833</td>\n",
       "      <td>10.749882</td>\n",
       "      <td>331</td>\n",
       "      <td>654</td>\n",
       "      <td>985</td>\n",
       "    </tr>\n",
       "    <tr>\n",
       "      <th>1</th>\n",
       "      <td>2</td>\n",
       "      <td>02-01-2018</td>\n",
       "      <td>1</td>\n",
       "      <td>0</td>\n",
       "      <td>1</td>\n",
       "      <td>0</td>\n",
       "      <td>0</td>\n",
       "      <td>0</td>\n",
       "      <td>2</td>\n",
       "      <td>14.902598</td>\n",
       "      <td>17.68695</td>\n",
       "      <td>69.6087</td>\n",
       "      <td>16.652113</td>\n",
       "      <td>131</td>\n",
       "      <td>670</td>\n",
       "      <td>801</td>\n",
       "    </tr>\n",
       "    <tr>\n",
       "      <th>2</th>\n",
       "      <td>3</td>\n",
       "      <td>03-01-2018</td>\n",
       "      <td>1</td>\n",
       "      <td>0</td>\n",
       "      <td>1</td>\n",
       "      <td>0</td>\n",
       "      <td>1</td>\n",
       "      <td>1</td>\n",
       "      <td>1</td>\n",
       "      <td>8.050924</td>\n",
       "      <td>9.47025</td>\n",
       "      <td>43.7273</td>\n",
       "      <td>16.636703</td>\n",
       "      <td>120</td>\n",
       "      <td>1229</td>\n",
       "      <td>1349</td>\n",
       "    </tr>\n",
       "    <tr>\n",
       "      <th>3</th>\n",
       "      <td>4</td>\n",
       "      <td>04-01-2018</td>\n",
       "      <td>1</td>\n",
       "      <td>0</td>\n",
       "      <td>1</td>\n",
       "      <td>0</td>\n",
       "      <td>2</td>\n",
       "      <td>1</td>\n",
       "      <td>1</td>\n",
       "      <td>8.200000</td>\n",
       "      <td>10.60610</td>\n",
       "      <td>59.0435</td>\n",
       "      <td>10.739832</td>\n",
       "      <td>108</td>\n",
       "      <td>1454</td>\n",
       "      <td>1562</td>\n",
       "    </tr>\n",
       "    <tr>\n",
       "      <th>4</th>\n",
       "      <td>5</td>\n",
       "      <td>05-01-2018</td>\n",
       "      <td>1</td>\n",
       "      <td>0</td>\n",
       "      <td>1</td>\n",
       "      <td>0</td>\n",
       "      <td>3</td>\n",
       "      <td>1</td>\n",
       "      <td>1</td>\n",
       "      <td>9.305237</td>\n",
       "      <td>11.46350</td>\n",
       "      <td>43.6957</td>\n",
       "      <td>12.522300</td>\n",
       "      <td>82</td>\n",
       "      <td>1518</td>\n",
       "      <td>1600</td>\n",
       "    </tr>\n",
       "  </tbody>\n",
       "</table>\n",
       "</div>"
      ],
      "text/plain": [
       "   instant      dteday  season  yr  mnth  holiday  weekday  workingday  \\\n",
       "0        1  01-01-2018       1   0     1        0        6           0   \n",
       "1        2  02-01-2018       1   0     1        0        0           0   \n",
       "2        3  03-01-2018       1   0     1        0        1           1   \n",
       "3        4  04-01-2018       1   0     1        0        2           1   \n",
       "4        5  05-01-2018       1   0     1        0        3           1   \n",
       "\n",
       "   weathersit       temp     atemp      hum  windspeed  casual  registered  \\\n",
       "0           2  14.110847  18.18125  80.5833  10.749882     331         654   \n",
       "1           2  14.902598  17.68695  69.6087  16.652113     131         670   \n",
       "2           1   8.050924   9.47025  43.7273  16.636703     120        1229   \n",
       "3           1   8.200000  10.60610  59.0435  10.739832     108        1454   \n",
       "4           1   9.305237  11.46350  43.6957  12.522300      82        1518   \n",
       "\n",
       "    cnt  \n",
       "0   985  \n",
       "1   801  \n",
       "2  1349  \n",
       "3  1562  \n",
       "4  1600  "
      ]
     },
     "execution_count": 3,
     "metadata": {},
     "output_type": "execute_result"
    }
   ],
   "source": [
    "original_data = pd.read_csv('day.csv')\n",
    "original_data.head()"
   ]
  },
  {
   "cell_type": "code",
   "execution_count": 4,
   "id": "7e8da44b-a14e-447a-a27b-83f0e16025d4",
   "metadata": {},
   "outputs": [
    {
     "data": {
      "text/plain": [
       "(730, 16)"
      ]
     },
     "execution_count": 4,
     "metadata": {},
     "output_type": "execute_result"
    }
   ],
   "source": [
    "original_data.shape"
   ]
  },
  {
   "cell_type": "code",
   "execution_count": 5,
   "id": "b2a200ac-b9a1-4e46-a87d-9b3bc7f77855",
   "metadata": {},
   "outputs": [
    {
     "name": "stdout",
     "output_type": "stream",
     "text": [
      "<class 'pandas.core.frame.DataFrame'>\n",
      "RangeIndex: 730 entries, 0 to 729\n",
      "Data columns (total 16 columns):\n",
      " #   Column      Non-Null Count  Dtype  \n",
      "---  ------      --------------  -----  \n",
      " 0   instant     730 non-null    int64  \n",
      " 1   dteday      730 non-null    object \n",
      " 2   season      730 non-null    int64  \n",
      " 3   yr          730 non-null    int64  \n",
      " 4   mnth        730 non-null    int64  \n",
      " 5   holiday     730 non-null    int64  \n",
      " 6   weekday     730 non-null    int64  \n",
      " 7   workingday  730 non-null    int64  \n",
      " 8   weathersit  730 non-null    int64  \n",
      " 9   temp        730 non-null    float64\n",
      " 10  atemp       730 non-null    float64\n",
      " 11  hum         730 non-null    float64\n",
      " 12  windspeed   730 non-null    float64\n",
      " 13  casual      730 non-null    int64  \n",
      " 14  registered  730 non-null    int64  \n",
      " 15  cnt         730 non-null    int64  \n",
      "dtypes: float64(4), int64(11), object(1)\n",
      "memory usage: 91.4+ KB\n"
     ]
    }
   ],
   "source": [
    "original_data.info()"
   ]
  },
  {
   "cell_type": "code",
   "execution_count": 6,
   "id": "9c98a176-b7cf-47a1-94c1-4e3c9181ddfd",
   "metadata": {},
   "outputs": [
    {
     "data": {
      "text/html": [
       "<div>\n",
       "<style scoped>\n",
       "    .dataframe tbody tr th:only-of-type {\n",
       "        vertical-align: middle;\n",
       "    }\n",
       "\n",
       "    .dataframe tbody tr th {\n",
       "        vertical-align: top;\n",
       "    }\n",
       "\n",
       "    .dataframe thead th {\n",
       "        text-align: right;\n",
       "    }\n",
       "</style>\n",
       "<table border=\"1\" class=\"dataframe\">\n",
       "  <thead>\n",
       "    <tr style=\"text-align: right;\">\n",
       "      <th></th>\n",
       "      <th>instant</th>\n",
       "      <th>season</th>\n",
       "      <th>yr</th>\n",
       "      <th>mnth</th>\n",
       "      <th>holiday</th>\n",
       "      <th>weekday</th>\n",
       "      <th>workingday</th>\n",
       "      <th>weathersit</th>\n",
       "      <th>temp</th>\n",
       "      <th>atemp</th>\n",
       "      <th>hum</th>\n",
       "      <th>windspeed</th>\n",
       "      <th>casual</th>\n",
       "      <th>registered</th>\n",
       "      <th>cnt</th>\n",
       "    </tr>\n",
       "  </thead>\n",
       "  <tbody>\n",
       "    <tr>\n",
       "      <th>count</th>\n",
       "      <td>730.000000</td>\n",
       "      <td>730.000000</td>\n",
       "      <td>730.000000</td>\n",
       "      <td>730.000000</td>\n",
       "      <td>730.000000</td>\n",
       "      <td>730.000000</td>\n",
       "      <td>730.000000</td>\n",
       "      <td>730.000000</td>\n",
       "      <td>730.000000</td>\n",
       "      <td>730.000000</td>\n",
       "      <td>730.000000</td>\n",
       "      <td>730.000000</td>\n",
       "      <td>730.000000</td>\n",
       "      <td>730.000000</td>\n",
       "      <td>730.000000</td>\n",
       "    </tr>\n",
       "    <tr>\n",
       "      <th>mean</th>\n",
       "      <td>365.500000</td>\n",
       "      <td>2.498630</td>\n",
       "      <td>0.500000</td>\n",
       "      <td>6.526027</td>\n",
       "      <td>0.028767</td>\n",
       "      <td>2.997260</td>\n",
       "      <td>0.683562</td>\n",
       "      <td>1.394521</td>\n",
       "      <td>20.319259</td>\n",
       "      <td>23.726322</td>\n",
       "      <td>62.765175</td>\n",
       "      <td>12.763620</td>\n",
       "      <td>849.249315</td>\n",
       "      <td>3658.757534</td>\n",
       "      <td>4508.006849</td>\n",
       "    </tr>\n",
       "    <tr>\n",
       "      <th>std</th>\n",
       "      <td>210.877136</td>\n",
       "      <td>1.110184</td>\n",
       "      <td>0.500343</td>\n",
       "      <td>3.450215</td>\n",
       "      <td>0.167266</td>\n",
       "      <td>2.006161</td>\n",
       "      <td>0.465405</td>\n",
       "      <td>0.544807</td>\n",
       "      <td>7.506729</td>\n",
       "      <td>8.150308</td>\n",
       "      <td>14.237589</td>\n",
       "      <td>5.195841</td>\n",
       "      <td>686.479875</td>\n",
       "      <td>1559.758728</td>\n",
       "      <td>1936.011647</td>\n",
       "    </tr>\n",
       "    <tr>\n",
       "      <th>min</th>\n",
       "      <td>1.000000</td>\n",
       "      <td>1.000000</td>\n",
       "      <td>0.000000</td>\n",
       "      <td>1.000000</td>\n",
       "      <td>0.000000</td>\n",
       "      <td>0.000000</td>\n",
       "      <td>0.000000</td>\n",
       "      <td>1.000000</td>\n",
       "      <td>2.424346</td>\n",
       "      <td>3.953480</td>\n",
       "      <td>0.000000</td>\n",
       "      <td>1.500244</td>\n",
       "      <td>2.000000</td>\n",
       "      <td>20.000000</td>\n",
       "      <td>22.000000</td>\n",
       "    </tr>\n",
       "    <tr>\n",
       "      <th>25%</th>\n",
       "      <td>183.250000</td>\n",
       "      <td>2.000000</td>\n",
       "      <td>0.000000</td>\n",
       "      <td>4.000000</td>\n",
       "      <td>0.000000</td>\n",
       "      <td>1.000000</td>\n",
       "      <td>0.000000</td>\n",
       "      <td>1.000000</td>\n",
       "      <td>13.811885</td>\n",
       "      <td>16.889713</td>\n",
       "      <td>52.000000</td>\n",
       "      <td>9.041650</td>\n",
       "      <td>316.250000</td>\n",
       "      <td>2502.250000</td>\n",
       "      <td>3169.750000</td>\n",
       "    </tr>\n",
       "    <tr>\n",
       "      <th>50%</th>\n",
       "      <td>365.500000</td>\n",
       "      <td>3.000000</td>\n",
       "      <td>0.500000</td>\n",
       "      <td>7.000000</td>\n",
       "      <td>0.000000</td>\n",
       "      <td>3.000000</td>\n",
       "      <td>1.000000</td>\n",
       "      <td>1.000000</td>\n",
       "      <td>20.465826</td>\n",
       "      <td>24.368225</td>\n",
       "      <td>62.625000</td>\n",
       "      <td>12.125325</td>\n",
       "      <td>717.000000</td>\n",
       "      <td>3664.500000</td>\n",
       "      <td>4548.500000</td>\n",
       "    </tr>\n",
       "    <tr>\n",
       "      <th>75%</th>\n",
       "      <td>547.750000</td>\n",
       "      <td>3.000000</td>\n",
       "      <td>1.000000</td>\n",
       "      <td>10.000000</td>\n",
       "      <td>0.000000</td>\n",
       "      <td>5.000000</td>\n",
       "      <td>1.000000</td>\n",
       "      <td>2.000000</td>\n",
       "      <td>26.880615</td>\n",
       "      <td>30.445775</td>\n",
       "      <td>72.989575</td>\n",
       "      <td>15.625589</td>\n",
       "      <td>1096.500000</td>\n",
       "      <td>4783.250000</td>\n",
       "      <td>5966.000000</td>\n",
       "    </tr>\n",
       "    <tr>\n",
       "      <th>max</th>\n",
       "      <td>730.000000</td>\n",
       "      <td>4.000000</td>\n",
       "      <td>1.000000</td>\n",
       "      <td>12.000000</td>\n",
       "      <td>1.000000</td>\n",
       "      <td>6.000000</td>\n",
       "      <td>1.000000</td>\n",
       "      <td>3.000000</td>\n",
       "      <td>35.328347</td>\n",
       "      <td>42.044800</td>\n",
       "      <td>97.250000</td>\n",
       "      <td>34.000021</td>\n",
       "      <td>3410.000000</td>\n",
       "      <td>6946.000000</td>\n",
       "      <td>8714.000000</td>\n",
       "    </tr>\n",
       "  </tbody>\n",
       "</table>\n",
       "</div>"
      ],
      "text/plain": [
       "          instant      season          yr        mnth     holiday     weekday  \\\n",
       "count  730.000000  730.000000  730.000000  730.000000  730.000000  730.000000   \n",
       "mean   365.500000    2.498630    0.500000    6.526027    0.028767    2.997260   \n",
       "std    210.877136    1.110184    0.500343    3.450215    0.167266    2.006161   \n",
       "min      1.000000    1.000000    0.000000    1.000000    0.000000    0.000000   \n",
       "25%    183.250000    2.000000    0.000000    4.000000    0.000000    1.000000   \n",
       "50%    365.500000    3.000000    0.500000    7.000000    0.000000    3.000000   \n",
       "75%    547.750000    3.000000    1.000000   10.000000    0.000000    5.000000   \n",
       "max    730.000000    4.000000    1.000000   12.000000    1.000000    6.000000   \n",
       "\n",
       "       workingday  weathersit        temp       atemp         hum   windspeed  \\\n",
       "count  730.000000  730.000000  730.000000  730.000000  730.000000  730.000000   \n",
       "mean     0.683562    1.394521   20.319259   23.726322   62.765175   12.763620   \n",
       "std      0.465405    0.544807    7.506729    8.150308   14.237589    5.195841   \n",
       "min      0.000000    1.000000    2.424346    3.953480    0.000000    1.500244   \n",
       "25%      0.000000    1.000000   13.811885   16.889713   52.000000    9.041650   \n",
       "50%      1.000000    1.000000   20.465826   24.368225   62.625000   12.125325   \n",
       "75%      1.000000    2.000000   26.880615   30.445775   72.989575   15.625589   \n",
       "max      1.000000    3.000000   35.328347   42.044800   97.250000   34.000021   \n",
       "\n",
       "            casual   registered          cnt  \n",
       "count   730.000000   730.000000   730.000000  \n",
       "mean    849.249315  3658.757534  4508.006849  \n",
       "std     686.479875  1559.758728  1936.011647  \n",
       "min       2.000000    20.000000    22.000000  \n",
       "25%     316.250000  2502.250000  3169.750000  \n",
       "50%     717.000000  3664.500000  4548.500000  \n",
       "75%    1096.500000  4783.250000  5966.000000  \n",
       "max    3410.000000  6946.000000  8714.000000  "
      ]
     },
     "execution_count": 6,
     "metadata": {},
     "output_type": "execute_result"
    }
   ],
   "source": [
    "original_data.describe()"
   ]
  },
  {
   "cell_type": "markdown",
   "id": "cc82afd2-b413-4eb0-9766-b2f4985755c1",
   "metadata": {
    "tags": []
   },
   "source": [
    "## Findings"
   ]
  },
  {
   "cell_type": "markdown",
   "id": "a1c7ab6a-7bcd-4237-b696-f88724ab7447",
   "metadata": {},
   "source": [
    "1. Data has 730 rows & 16 columns\n",
    "2. Out of 16 columns\n",
    "\n",
    "    a. '11' are integer type\n",
    "    \n",
    "    b. '4' are float type\n",
    "    \n",
    "    c. '1' is object type i.e. 'dteday'  \n",
    "    \n",
    "3. 'cnt' is our target variable\n",
    "4. Columns not useful for analysis\n",
    "\n",
    "    a. 'instant': Just a number\n",
    "    \n",
    "    b. 'dteday' : Since, we already have month & year. Therefore, it won't make any sense in our analysis\n",
    "    \n",
    "    c. 'casual' : Part of our target variable\n",
    "    \n",
    "    d. 'registered' : Part of our target variable    \n",
    "    \n",
    "5. These remaining 12 columns can be broadly divided into two major categories\n",
    "\n",
    "    a. Numeric Variables: 'temp', 'atemp','hum','windspeed', 'cnt'\n",
    "    \n",
    "    b. Categorical Variables: 'season','year','mnth','holiday','weekday','workingday','weathersit'"
   ]
  },
  {
   "cell_type": "markdown",
   "id": "66a3ac71-db4f-4682-aa82-642c4472b0b8",
   "metadata": {
    "tags": []
   },
   "source": [
    "# Data Cleaning & Manipulation"
   ]
  },
  {
   "cell_type": "code",
   "execution_count": 7,
   "id": "5c0daca1-2841-4deb-828b-8654dd73d7af",
   "metadata": {},
   "outputs": [],
   "source": [
    "# Creating a copy of the original data so that we can always retrive original data if something goes wrong\n",
    "import copy\n",
    "data = copy.deepcopy(original_data)"
   ]
  },
  {
   "cell_type": "markdown",
   "id": "03738caf-a8db-4c4f-938e-a15641d38d11",
   "metadata": {},
   "source": [
    "## Fixing rows & columns"
   ]
  },
  {
   "cell_type": "markdown",
   "id": "e52f75df-8694-4377-b6de-b4d7dd4399f9",
   "metadata": {
    "tags": []
   },
   "source": [
    "### Checking null Values %"
   ]
  },
  {
   "cell_type": "code",
   "execution_count": 8,
   "id": "edf74965-30ff-46be-81f3-317f9da6de0a",
   "metadata": {},
   "outputs": [
    {
     "name": "stdout",
     "output_type": "stream",
     "text": [
      "instant       0.0\n",
      "dteday        0.0\n",
      "season        0.0\n",
      "yr            0.0\n",
      "mnth          0.0\n",
      "holiday       0.0\n",
      "weekday       0.0\n",
      "workingday    0.0\n",
      "weathersit    0.0\n",
      "temp          0.0\n",
      "atemp         0.0\n",
      "hum           0.0\n",
      "windspeed     0.0\n",
      "casual        0.0\n",
      "registered    0.0\n",
      "cnt           0.0\n",
      "dtype: float64\n"
     ]
    }
   ],
   "source": [
    "# Column-wise\n",
    "col_null_percentages = data.apply(lambda row: row.isnull().sum() / len(row) * 100)\n",
    "print(col_null_percentages.sort_values(ascending = False))"
   ]
  },
  {
   "cell_type": "code",
   "execution_count": 9,
   "id": "8c7d7af4-83ff-42f5-a79d-e4cc3dd29d21",
   "metadata": {},
   "outputs": [
    {
     "name": "stdout",
     "output_type": "stream",
     "text": [
      "0      0.0\n",
      "479    0.0\n",
      "481    0.0\n",
      "482    0.0\n",
      "483    0.0\n",
      "      ... \n",
      "245    0.0\n",
      "246    0.0\n",
      "247    0.0\n",
      "248    0.0\n",
      "729    0.0\n",
      "Length: 730, dtype: float64\n"
     ]
    }
   ],
   "source": [
    "# Row-wise\n",
    "row_null_percentages = data.apply(lambda row: row.isnull().sum() / len(row) * 100, axis=1)\n",
    "print(row_null_percentages.sort_values(ascending = False))"
   ]
  },
  {
   "cell_type": "markdown",
   "id": "cf15f9b5-b961-4d6c-828d-2c761388c662",
   "metadata": {},
   "source": [
    "### Dropping irrelevant columns"
   ]
  },
  {
   "cell_type": "code",
   "execution_count": 10,
   "id": "f6477cfb-27f8-4ca7-8fb1-7e7f4477d3c0",
   "metadata": {},
   "outputs": [
    {
     "name": "stdout",
     "output_type": "stream",
     "text": [
      "   season  yr  mnth  holiday  weekday  workingday  weathersit       temp  \\\n",
      "0       1   0     1        0        6           0           2  14.110847   \n",
      "1       1   0     1        0        0           0           2  14.902598   \n",
      "2       1   0     1        0        1           1           1   8.050924   \n",
      "3       1   0     1        0        2           1           1   8.200000   \n",
      "4       1   0     1        0        3           1           1   9.305237   \n",
      "\n",
      "      atemp      hum  windspeed   cnt  \n",
      "0  18.18125  80.5833  10.749882   985  \n",
      "1  17.68695  69.6087  16.652113   801  \n",
      "2   9.47025  43.7273  16.636703  1349  \n",
      "3  10.60610  59.0435  10.739832  1562  \n",
      "4  11.46350  43.6957  12.522300  1600  \n",
      "(730, 12)\n"
     ]
    }
   ],
   "source": [
    "cols_to_be_dropped = ['instant', 'dteday','casual', 'registered']\n",
    "data.drop(cols_to_be_dropped, axis=1, inplace=True)\n",
    "print(data.head())\n",
    "print(data.shape)"
   ]
  },
  {
   "cell_type": "markdown",
   "id": "3cb0eb66-a1c9-4ae8-a151-dcf7ddb7cd47",
   "metadata": {},
   "source": [
    "## Checking duplicates"
   ]
  },
  {
   "cell_type": "code",
   "execution_count": 11,
   "id": "2a6f5065-52cf-4d43-80bd-b1d9f4fe9e26",
   "metadata": {},
   "outputs": [
    {
     "name": "stdout",
     "output_type": "stream",
     "text": [
      "0\n"
     ]
    }
   ],
   "source": [
    "no_of_duplicates = data.duplicated().sum()\n",
    "print(no_of_duplicates)"
   ]
  },
  {
   "cell_type": "markdown",
   "id": "60951afc-d362-4c53-8fb2-a7a3a5f1923e",
   "metadata": {},
   "source": [
    "## Checking for Unknow values"
   ]
  },
  {
   "cell_type": "code",
   "execution_count": 12,
   "id": "a1f918b3-4261-4490-9f81-133a06db54cd",
   "metadata": {
    "tags": []
   },
   "outputs": [
    {
     "name": "stdout",
     "output_type": "stream",
     "text": [
      "value count of season\n",
      "3    188\n",
      "2    184\n",
      "1    180\n",
      "4    178\n",
      "Name: season, dtype: int64 \n",
      "\n",
      "value count of yr\n",
      "0    365\n",
      "1    365\n",
      "Name: yr, dtype: int64 \n",
      "\n",
      "value count of mnth\n",
      "1     62\n",
      "3     62\n",
      "5     62\n",
      "7     62\n",
      "8     62\n",
      "10    62\n",
      "12    62\n",
      "4     60\n",
      "6     60\n",
      "9     60\n",
      "11    60\n",
      "2     56\n",
      "Name: mnth, dtype: int64 \n",
      "\n",
      "value count of holiday\n",
      "0    709\n",
      "1     21\n",
      "Name: holiday, dtype: int64 \n",
      "\n",
      "value count of weekday\n",
      "6    105\n",
      "0    105\n",
      "1    105\n",
      "2    104\n",
      "4    104\n",
      "5    104\n",
      "3    103\n",
      "Name: weekday, dtype: int64 \n",
      "\n",
      "value count of workingday\n",
      "1    499\n",
      "0    231\n",
      "Name: workingday, dtype: int64 \n",
      "\n",
      "value count of weathersit\n",
      "1    463\n",
      "2    246\n",
      "3     21\n",
      "Name: weathersit, dtype: int64 \n",
      "\n",
      "value count of temp\n",
      "26.035000    5\n",
      "10.899153    5\n",
      "27.880000    4\n",
      "28.563347    4\n",
      "23.130847    4\n",
      "            ..\n",
      "27.435847    1\n",
      "26.376653    1\n",
      "28.989419    1\n",
      "28.700000    1\n",
      "8.849153     1\n",
      "Name: temp, Length: 498, dtype: int64 \n",
      "\n",
      "value count of atemp\n",
      "32.73440    4\n",
      "18.78105    3\n",
      "31.85040    3\n",
      "28.59875    2\n",
      "23.32625    2\n",
      "           ..\n",
      "28.94730    1\n",
      "30.46145    1\n",
      "30.10650    1\n",
      "31.34500    1\n",
      "11.17435    1\n",
      "Name: atemp, Length: 689, dtype: int64 \n",
      "\n",
      "value count of hum\n",
      "61.3333    4\n",
      "63.0833    3\n",
      "55.2083    3\n",
      "60.5000    3\n",
      "56.8333    3\n",
      "          ..\n",
      "54.8333    1\n",
      "56.1765    1\n",
      "85.0000    1\n",
      "76.1250    1\n",
      "57.7500    1\n",
      "Name: hum, Length: 594, dtype: int64 \n",
      "\n",
      "value count of windspeed\n",
      "9.041918     3\n",
      "11.166689    3\n",
      "11.250104    3\n",
      "15.333486    3\n",
      "7.959064     3\n",
      "            ..\n",
      "12.416775    1\n",
      "13.833289    1\n",
      "14.250632    1\n",
      "23.044181    1\n",
      "10.374682    1\n",
      "Name: windspeed, Length: 649, dtype: int64 \n",
      "\n",
      "value count of cnt\n",
      "5409    2\n",
      "2424    2\n",
      "5698    2\n",
      "4459    2\n",
      "5119    2\n",
      "       ..\n",
      "5345    1\n",
      "5046    1\n",
      "4713    1\n",
      "4763    1\n",
      "2729    1\n",
      "Name: cnt, Length: 695, dtype: int64 \n",
      "\n"
     ]
    }
   ],
   "source": [
    "for col in data.columns:\n",
    "    print(f'value count of {col}')\n",
    "    print(data[col].value_counts(),'\\n')"
   ]
  },
  {
   "cell_type": "markdown",
   "id": "309239fe-748d-471a-ab20-48df9d21b22a",
   "metadata": {},
   "source": [
    "We can see that there are no values like 'none', 'other', etc."
   ]
  },
  {
   "cell_type": "markdown",
   "id": "5d483cf6-af80-4de7-8138-beba2ba9f9b0",
   "metadata": {},
   "source": [
    "## Checking Outliers"
   ]
  },
  {
   "cell_type": "code",
   "execution_count": 18,
   "id": "63d12550-2287-4b4e-8470-c7a9489961d6",
   "metadata": {},
   "outputs": [
    {
     "data": {
      "image/png": "[encoded data removed]",
      "text/plain": [
       "<Figure size 1000x800 with 6 Axes>"
      ]
     },
     "metadata": {},
     "output_type": "display_data"
    }
   ],
   "source": [
    "# These variables to be checked: 'temp', 'atemp','hum','windspeed' & 'cnt'\n",
    "\n",
    "# create a figure with 6 subplots\n",
    "fig_1, axs_1 = plt.subplots(nrows=3, ncols=2, figsize=(10,8))\n",
    "\n",
    "# plot data in each subplot\n",
    "axs_1[0, 0].boxplot(data['temp'], vert=False)\n",
    "axs_1[0, 0].set_title('Temperature Distribution')\n",
    "axs_1[0, 0].set_xlabel('Temperature (in Celsius)')\n",
    "\n",
    "axs_1[0, 1].boxplot(data['atemp'], vert=False)\n",
    "axs_1[0, 1].set_title('Feeling Temperature Distribution')\n",
    "axs_1[0, 1].set_xlabel('Feeling Temperature (in Celsius)')\n",
    "\n",
    "axs_1[1, 0].boxplot(data['hum'], vert=False)\n",
    "axs_1[1, 0].set_title('Humidity Distribution')\n",
    "axs_1[1, 0].set_xlabel('Humidity (in %)')\n",
    "\n",
    "axs_1[1, 1].boxplot(data['windspeed'], vert=False)\n",
    "axs_1[1, 1].set_title('Windspeed Distribution')\n",
    "axs_1[1, 1].set_xlabel('Windspeed (in kmph)')\n",
    "\n",
    "axs_1[2, 0].boxplot(data['cnt'], vert=False)\n",
    "axs_1[2, 0].set_title('Total Rental Bikes Distribution')\n",
    "axs_1[2, 0].set_xlabel('Total Rental Bikes')\n",
    "\n",
    "# set figure title\n",
    "fig_1.suptitle('Outliers Analysis', fontsize=20, color='r')\n",
    "\n",
    "# adjust subplot spacing\n",
    "plt.tight_layout()\n",
    "\n",
    "plt.show()"
   ]
  },
  {
   "cell_type": "markdown",
   "id": "7ff42f21-d0d6-4941-affe-9c6eba2b1cf5",
   "metadata": {},
   "source": [
    "As we can see that there are 2 major columns with 'Outliers' i.e. 'hum' & 'windspeed'. Therefore, let's remove the outliers from them."
   ]
  },
  {
   "cell_type": "code",
   "execution_count": 19,
   "id": "5bd75549-9271-4148-9ff2-2200dc225aa4",
   "metadata": {},
   "outputs": [
    {
     "data": {
      "text/plain": [
       "(730, 12)"
      ]
     },
     "execution_count": 19,
     "metadata": {},
     "output_type": "execute_result"
    }
   ],
   "source": [
    "# Checking data before removing outliers\n",
    "data.shape"
   ]
  },
  {
   "cell_type": "code",
   "execution_count": 20,
   "id": "d4aedea8-e95b-4a71-8e6f-413289fa2a5f",
   "metadata": {},
   "outputs": [
    {
     "data": {
      "text/plain": [
       "(716, 12)"
      ]
     },
     "execution_count": 20,
     "metadata": {},
     "output_type": "execute_result"
    }
   ],
   "source": [
    "def remove_outliers(database, cols_to_be_considered):\n",
    "    \n",
    "    # Data with concerned columns\n",
    "    data_to_consider = database[cols_to_be_considered]\n",
    "    \n",
    "    q1 = data_to_consider.quantile(0.25)\n",
    "    q3 = data_to_consider.quantile(0.75)\n",
    "    IQR = q3 - q1\n",
    "    \n",
    "    lower_threshold = q1 - 1.5 * IQR\n",
    "    upper_threshold = q3 + 1.5 * IQR\n",
    "    \n",
    "    # Extracting outliers\n",
    "    outliers = (data_to_consider < lower_threshold) | (data_to_consider > upper_threshold)\n",
    "    \n",
    "    # Removing outliers\n",
    "    cleaned_database = database[~(outliers).any(axis=1)]\n",
    "    \n",
    "    return cleaned_database\n",
    "\n",
    "cols_with_outliers = ['hum','windspeed']\n",
    "data_wo_outliers = remove_outliers(data, cols_with_outliers)\n",
    "data_wo_outliers.shape"
   ]
  },
  {
   "cell_type": "markdown",
   "id": "ba6d8a6d-ef61-465e-9544-b482f1fe509c",
   "metadata": {},
   "source": [
    "From the shape of the data, we can analyse that there are total 14 outliers in total which is roughly 2%"
   ]
  },
  {
   "cell_type": "code",
   "execution_count": 22,
   "id": "01117ccb-9828-4a1a-8c92-e5a694638c73",
   "metadata": {},
   "outputs": [
    {
     "data": {
      "image/png": "[encoded data removed]",
      "text/plain": [
       "<Figure size 640x480 with 2 Axes>"
      ]
     },
     "metadata": {},
     "output_type": "display_data"
    }
   ],
   "source": [
    "# create box plots for the 2 columns which had outliers\n",
    "fig_2, axs_2 = plt.subplots(nrows=1, ncols=2)\n",
    "\n",
    "axs_2[0].boxplot(data_wo_outliers['hum'], vert=False)\n",
    "axs_2[0].set_title('Humidity Distribution')\n",
    "axs_2[0].set_xlabel('Humidity (in %)')\n",
    "\n",
    "axs_2[1].boxplot(data_wo_outliers['windspeed'], vert=False)\n",
    "axs_2[1].set_title('Windspeed Distribution')\n",
    "axs_2[1].set_xlabel('Windspeed (in kmph)')\n",
    "\n",
    "# set figure title\n",
    "fig_2.suptitle('Data w/o Outliers', fontsize=20, color='r')\n",
    "\n",
    "# adjust subplot spacing\n",
    "plt.tight_layout()\n",
    "\n",
    "plt.show()"
   ]
  },
  {
   "cell_type": "markdown",
   "id": "d6d4e214-a8c1-472d-a3fe-20c51cfae55e",
   "metadata": {},
   "source": [
    "## Findings"
   ]
  },
  {
   "cell_type": "markdown",
   "id": "426ea8d2-f4b1-484a-89ca-a3221e46fa43",
   "metadata": {},
   "source": [
    "1. There are no null values in the data\n",
    "2. Dropping 4 irrelevant columns: 'instant', 'dteday','casual' & 'registered'\n",
    "3. There are no duplicates in the data\n",
    "4. There are no unknown values in the data\n",
    "5. Majority of the columns have no outliers except the 'hum' & 'windspeed' from which we have removed the outliers."
   ]
  },
  {
   "cell_type": "markdown",
   "id": "a51f9232-c65e-45be-aa76-175ce5073923",
   "metadata": {
    "tags": []
   },
   "source": [
    "# EDA"
   ]
  },
  {
   "cell_type": "markdown",
   "id": "8d0fdaf0-1516-46fc-95d9-bfb4490a2cac",
   "metadata": {},
   "source": [
    "Data Types\n",
    "\n",
    "    a. Numeric Variables    : 'temp', 'atemp','hum','windspeed', 'cnt'\n",
    "    \n",
    "    b. Categorical Variables: 'season','year','mnth','holiday','weekday','workingday','weathersit'"
   ]
  },
  {
   "cell_type": "markdown",
   "id": "35ff3891-3a79-4c81-a838-47282cb181ef",
   "metadata": {},
   "source": [
    "## Numeric Variables"
   ]
  },
  {
   "cell_type": "code",
   "execution_count": 23,
   "id": "ea2ed65c-0657-4da9-8e84-2bab88fa8174",
   "metadata": {},
   "outputs": [
    {
     "data": {
      "text/plain": [
       "<Figure size 1200x800 with 0 Axes>"
      ]
     },
     "metadata": {},
     "output_type": "display_data"
    },
    {
     "data": {
      "image/png": "[encoded data removed]",
      "text/plain": [
       "<Figure size 1250x1250 with 25 Axes>"
      ]
     },
     "metadata": {},
     "output_type": "display_data"
    }
   ],
   "source": [
    "# Heatmap to understand colinearity b/w variables\n",
    "plt.figure(figsize=(12,8))\n",
    "\n",
    "numeric_variables = ['temp', 'atemp','hum','windspeed', 'cnt']\n",
    "numeric_variables_df = data[numeric_variables]\n",
    "\n",
    "# create a pair plot\n",
    "pair_plot = sns.PairGrid(numeric_variables_df)\n",
    "pair_plot.map_lower(sns.scatterplot)\n",
    "\n",
    "# show only the upper triangle\n",
    "pair_plot = pair_plot.map_lower(sns.scatterplot).set(xticks=[], yticks=[])\n",
    "\n",
    "sns.despine()\n",
    "plt.show()"
   ]
  },
  {
   "cell_type": "markdown",
   "id": "92c1f0b9-9691-43f7-8f1c-cc82a243cd5c",
   "metadata": {},
   "source": [
    "As we can see that 'temp' & 'atemp' has very high correlation, therefore, we can drop one them which have lower correlation with the target variable 'cnt'.\n",
    "\n",
    "To get the correlation, let's plot the heatmap of the correlation matrix"
   ]
  },
  {
   "cell_type": "code",
   "execution_count": 43,
   "id": "c78b73c5-5e61-418f-9bd0-0ae0ba52cf4e",
   "metadata": {},
   "outputs": [
    {
     "data": {
      "image/png": "[encoded data removed]",
      "text/plain": [
       "<Figure size 640x480 with 2 Axes>"
      ]
     },
     "metadata": {},
     "output_type": "display_data"
    }
   ],
   "source": [
    "fig, ax = plt.subplots()\n",
    "\n",
    "# This creates a matirx with all the values RHS to the diagonal is zero\n",
    "upper_tri = np.triu(numeric_variables_df.corr())\n",
    "                    \n",
    "sns.heatmap(numeric_variables_df.corr(), cmap=\"coolwarm\", annot = True, ax=ax, mask=upper_tri)\n",
    "plt.show()"
   ]
  },
  {
   "cell_type": "markdown",
   "id": "7c42d0df-549b-47cc-8d9b-e0db4536355a",
   "metadata": {},
   "source": [
    "From above, we say that since both has equal correlation with 'cnt', we can drop either of them. Since, 'temp' is the actual temperature and 'atemp' is feel like temperature, therefore, it makes sense to keep 'temp' & drop 'atemp'"
   ]
  },
  {
   "cell_type": "code",
   "execution_count": 25,
   "id": "93c917a6-c3a8-467c-b49c-87d9266cef7f",
   "metadata": {},
   "outputs": [],
   "source": [
    "# Dropping 'atemp' column\n",
    "data.drop('atemp', axis=1, inplace=True)"
   ]
  },
  {
   "cell_type": "markdown",
   "id": "e9f5775b-eac3-40e2-b381-2f585dcfb5de",
   "metadata": {},
   "source": [
    "### Findings"
   ]
  },
  {
   "cell_type": "markdown",
   "id": "e8238bb4-085b-490f-824d-c4b7382a4eba",
   "metadata": {},
   "source": [
    "1. We dropped 'atemp' to avoid multi-collinearity issue.\n",
    "2. 'temp' & 'cnt' shows a good linear relationship which means it's going to be an important parameter.\n",
    "3. Rest of the variables shows a weak linear relationship with the 'cnt' variable."
   ]
  },
  {
   "cell_type": "markdown",
   "id": "574cacca-2ca7-414b-a54c-c40ee2990352",
   "metadata": {
    "tags": []
   },
   "source": [
    "## Categorical Variables\n",
    "\n",
    "'season','year','mnth','holiday','weekday','workingday','weathersit'"
   ]
  },
  {
   "cell_type": "markdown",
   "id": "f4c729fb-7a19-475c-93a6-851ad484afde",
   "metadata": {},
   "source": [
    "### Data Mapping"
   ]
  },
  {
   "cell_type": "code",
   "execution_count": 26,
   "id": "e18a8703-0f7d-437e-9eac-736d8160c0b4",
   "metadata": {},
   "outputs": [],
   "source": [
    "# Changing data values for better understanding\n",
    "\n",
    "# Season\n",
    "season_dict = {\n",
    "    1: 'Spring',\n",
    "    2: 'Summer',\n",
    "    3: 'Fall',\n",
    "    4: 'Winter',\n",
    "}\n",
    "\n",
    "# Mapping to get the real value\n",
    "data['season'] = data['season'].map(season_dict)\n",
    "\n",
    "# month\n",
    "\n",
    "month_dict = {\n",
    "    1: 'Jan',\n",
    "    2: 'Feb',\n",
    "    3: 'Mar',\n",
    "    4: 'Apr',\n",
    "    5: 'May',\n",
    "    6: 'Jun',\n",
    "    7: 'Jul',\n",
    "    8: 'Aug',\n",
    "    9: 'Sep',\n",
    "    10: 'Oct',\n",
    "    11: 'Nov',\n",
    "    12: 'Dec',\n",
    "}\n",
    "\n",
    "# Mapping to get the real value\n",
    "data['mnth'] = data['mnth'].map(month_dict)\n",
    "\n",
    "# weekday\n",
    "weekday_dict = {\n",
    "    0: 'Sun',\n",
    "    1: 'Mon',\n",
    "    2: 'Tue',\n",
    "    3: 'Wed',\n",
    "    4: 'Thu',\n",
    "    5: 'Fri',\n",
    "    6: 'Sat',\n",
    "}\n",
    "\n",
    "# Mapping to get the real value\n",
    "data['weekday'] = data['weekday'].map(weekday_dict)\n",
    "\n",
    "# weathersit\n",
    "weathersit_dict = {\n",
    "    1: 'Clear',\n",
    "    2: 'Mist',\n",
    "    3: 'Light_Snow',\n",
    "    4: 'Heavy_Rain',\n",
    "}\n",
    "# Mapping to get the real value\n",
    "data['weathersit'] = data['weathersit'].map(weathersit_dict)"
   ]
  },
  {
   "cell_type": "code",
   "execution_count": 27,
   "id": "b1edb797-8ea1-4f01-978f-5190e3cc6189",
   "metadata": {},
   "outputs": [
    {
     "data": {
      "text/html": [
       "<div>\n",
       "<style scoped>\n",
       "    .dataframe tbody tr th:only-of-type {\n",
       "        vertical-align: middle;\n",
       "    }\n",
       "\n",
       "    .dataframe tbody tr th {\n",
       "        vertical-align: top;\n",
       "    }\n",
       "\n",
       "    .dataframe thead th {\n",
       "        text-align: right;\n",
       "    }\n",
       "</style>\n",
       "<table border=\"1\" class=\"dataframe\">\n",
       "  <thead>\n",
       "    <tr style=\"text-align: right;\">\n",
       "      <th></th>\n",
       "      <th>season</th>\n",
       "      <th>yr</th>\n",
       "      <th>mnth</th>\n",
       "      <th>holiday</th>\n",
       "      <th>weekday</th>\n",
       "      <th>workingday</th>\n",
       "      <th>weathersit</th>\n",
       "      <th>temp</th>\n",
       "      <th>hum</th>\n",
       "      <th>windspeed</th>\n",
       "      <th>cnt</th>\n",
       "    </tr>\n",
       "  </thead>\n",
       "  <tbody>\n",
       "    <tr>\n",
       "      <th>0</th>\n",
       "      <td>Spring</td>\n",
       "      <td>0</td>\n",
       "      <td>Jan</td>\n",
       "      <td>0</td>\n",
       "      <td>Sat</td>\n",
       "      <td>0</td>\n",
       "      <td>Mist</td>\n",
       "      <td>14.110847</td>\n",
       "      <td>80.5833</td>\n",
       "      <td>10.749882</td>\n",
       "      <td>985</td>\n",
       "    </tr>\n",
       "    <tr>\n",
       "      <th>1</th>\n",
       "      <td>Spring</td>\n",
       "      <td>0</td>\n",
       "      <td>Jan</td>\n",
       "      <td>0</td>\n",
       "      <td>Sun</td>\n",
       "      <td>0</td>\n",
       "      <td>Mist</td>\n",
       "      <td>14.902598</td>\n",
       "      <td>69.6087</td>\n",
       "      <td>16.652113</td>\n",
       "      <td>801</td>\n",
       "    </tr>\n",
       "    <tr>\n",
       "      <th>2</th>\n",
       "      <td>Spring</td>\n",
       "      <td>0</td>\n",
       "      <td>Jan</td>\n",
       "      <td>0</td>\n",
       "      <td>Mon</td>\n",
       "      <td>1</td>\n",
       "      <td>Clear</td>\n",
       "      <td>8.050924</td>\n",
       "      <td>43.7273</td>\n",
       "      <td>16.636703</td>\n",
       "      <td>1349</td>\n",
       "    </tr>\n",
       "    <tr>\n",
       "      <th>3</th>\n",
       "      <td>Spring</td>\n",
       "      <td>0</td>\n",
       "      <td>Jan</td>\n",
       "      <td>0</td>\n",
       "      <td>Tue</td>\n",
       "      <td>1</td>\n",
       "      <td>Clear</td>\n",
       "      <td>8.200000</td>\n",
       "      <td>59.0435</td>\n",
       "      <td>10.739832</td>\n",
       "      <td>1562</td>\n",
       "    </tr>\n",
       "    <tr>\n",
       "      <th>4</th>\n",
       "      <td>Spring</td>\n",
       "      <td>0</td>\n",
       "      <td>Jan</td>\n",
       "      <td>0</td>\n",
       "      <td>Wed</td>\n",
       "      <td>1</td>\n",
       "      <td>Clear</td>\n",
       "      <td>9.305237</td>\n",
       "      <td>43.6957</td>\n",
       "      <td>12.522300</td>\n",
       "      <td>1600</td>\n",
       "    </tr>\n",
       "  </tbody>\n",
       "</table>\n",
       "</div>"
      ],
      "text/plain": [
       "   season  yr mnth  holiday weekday  workingday weathersit       temp  \\\n",
       "0  Spring   0  Jan        0     Sat           0       Mist  14.110847   \n",
       "1  Spring   0  Jan        0     Sun           0       Mist  14.902598   \n",
       "2  Spring   0  Jan        0     Mon           1      Clear   8.050924   \n",
       "3  Spring   0  Jan        0     Tue           1      Clear   8.200000   \n",
       "4  Spring   0  Jan        0     Wed           1      Clear   9.305237   \n",
       "\n",
       "       hum  windspeed   cnt  \n",
       "0  80.5833  10.749882   985  \n",
       "1  69.6087  16.652113   801  \n",
       "2  43.7273  16.636703  1349  \n",
       "3  59.0435  10.739832  1562  \n",
       "4  43.6957  12.522300  1600  "
      ]
     },
     "execution_count": 27,
     "metadata": {},
     "output_type": "execute_result"
    }
   ],
   "source": [
    "data.head()"
   ]
  },
  {
   "cell_type": "markdown",
   "id": "1532bc69-4da1-4605-99eb-545dfc133048",
   "metadata": {},
   "source": [
    "### Box-Plot Analysis"
   ]
  },
  {
   "cell_type": "code",
   "execution_count": 28,
   "id": "66b5f939-25db-48b4-990a-d88d84e1ca27",
   "metadata": {},
   "outputs": [
    {
     "data": {
      "image/png": "[encoded data removed]",
      "text/plain": [
       "<Figure size 1800x1800 with 6 Axes>"
      ]
     },
     "metadata": {},
     "output_type": "display_data"
    }
   ],
   "source": [
    "plt.figure(figsize=(18, 18))\n",
    "\n",
    "plt.subplot(4,2,1)\n",
    "sns.boxplot(data= data, x = 'season', y = 'cnt')\n",
    "\n",
    "plt.subplot(4,2,2)\n",
    "sns.boxplot(data= data, x = 'yr', y = 'cnt')\n",
    "plt.xticks([0,1],['2018 (0)','2019(1)'])\n",
    "\n",
    "plt.subplot(4,2,3)\n",
    "sns.boxplot(data= data, x = 'mnth', y = 'cnt')\n",
    "\n",
    "plt.subplot(4,2,4)\n",
    "sns.boxplot(data= data, x = 'holiday', y = 'cnt')\n",
    "plt.xticks([0,1],['No (0)','Yes(1)'])\n",
    "\n",
    "plt.subplot(4,2,5)\n",
    "sns.boxplot(data= data, x = 'weekday', y = 'cnt')\n",
    "\n",
    "plt.subplot(4,2,6)\n",
    "sns.boxplot(data= data, x = 'weathersit', y = 'cnt')\n",
    "\n",
    "# adjust subplot spacing\n",
    "plt.tight_layout()\n",
    "\n",
    "plt.show()"
   ]
  },
  {
   "cell_type": "markdown",
   "id": "2adf8a15-fd9f-48b3-ba30-47b6fbf2c971",
   "metadata": {},
   "source": [
    "### Findings"
   ]
  },
  {
   "cell_type": "markdown",
   "id": "c2a96e73-3e3a-4fbc-adcb-a213ee96eba1",
   "metadata": {},
   "source": [
    "1. During summer & fall, bookings are much more as compare to spring & winter\n",
    "2. No. of bookings increases in 2019 as compare to 2018\n",
    "3. There is upward trend in booking from Jan to May, then, stays more of same till Oct and, then, again starts falling till Dec\n",
    "4. No. of bookings on a 'non-holiday' day is more as compare to holidays\n",
    "5. Bookings remains almost same through-out the week. No exceptional decrease or increase.\n",
    "6. No. of bookings are highest on a clear day & lowest on light snow. There are no bookings when it rains heavily."
   ]
  },
  {
   "cell_type": "markdown",
   "id": "66a031de-acd7-46d5-9e43-f977f14057e6",
   "metadata": {},
   "source": [
    "# Data Preparation"
   ]
  },
  {
   "cell_type": "markdown",
   "id": "b1435a94-abc8-4935-bc9c-f7ba4e90ef2a",
   "metadata": {
    "tags": []
   },
   "source": [
    "## Creating dummy data\n",
    "\n",
    "Need to create dummy variables for 'season', 'weathersit', 'weekday' & 'mnth'"
   ]
  },
  {
   "cell_type": "code",
   "execution_count": null,
   "id": "3e652f7a-07a5-4c7f-b6ec-2575a27b6d80",
   "metadata": {},
   "outputs": [],
   "source": [
    "'''\n",
    "To Understand the values in 'weathersit' column, please refer this:\n",
    "\n",
    "weathersit : \n",
    "\t\t- 1: Clear, Few clouds, Partly cloudy, Partly cloudy\n",
    "\t\t- 2: Mist + Cloudy, Mist + Broken clouds, Mist + Few clouds, Mist\n",
    "\t\t- 3: Light Snow, Light Rain + Thunderstorm + Scattered clouds, Light Rain + Scattered clouds\n",
    "\t\t- 4: Heavy Rain + Ice Pallets + Thunderstorm + Mist, Snow + Fog\n",
    "'''"
   ]
  },
  {
   "cell_type": "markdown",
   "id": "bd31464a-0b4f-42c6-96d4-373a936d7fab",
   "metadata": {
    "tags": []
   },
   "source": [
    "### Creating dummy variables"
   ]
  },
  {
   "cell_type": "code",
   "execution_count": 29,
   "id": "9696a7bf-65ac-432f-b91c-64438123f54b",
   "metadata": {},
   "outputs": [],
   "source": [
    "# Function to create dummy variables\n",
    "\n",
    "def getDummies(database, column_name):\n",
    "    \n",
    "    # Creating dummy variables for all the categorical variables\n",
    "    dummy_df = pd.get_dummies(database[column_name] , drop_first = True)\n",
    "    \n",
    "    # Concatenating dummy dataframe with the original data\n",
    "    database = pd.concat([database, dummy_df], axis=1)\n",
    "    \n",
    "    # Dropping categorical column\n",
    "    database.drop([column_name], axis=1, inplace=True)\n",
    "    \n",
    "    return database    "
   ]
  },
  {
   "cell_type": "code",
   "execution_count": 30,
   "id": "d6f9b336-8189-4e74-9b10-337dcb86c2a7",
   "metadata": {},
   "outputs": [
    {
     "name": "stdout",
     "output_type": "stream",
     "text": [
      "\n",
      "------ season value count------\n",
      "Fall      188\n",
      "Summer    184\n",
      "Spring    180\n",
      "Winter    178\n",
      "Name: season, dtype: int64\n",
      "\n",
      "------ weathersit value count------\n",
      "Clear         463\n",
      "Mist          246\n",
      "Light_Snow     21\n",
      "Name: weathersit, dtype: int64\n",
      "\n",
      "------ weekday value count------\n",
      "Sat    105\n",
      "Sun    105\n",
      "Mon    105\n",
      "Tue    104\n",
      "Thu    104\n",
      "Fri    104\n",
      "Wed    103\n",
      "Name: weekday, dtype: int64\n",
      "\n",
      "------ mnth value count------\n",
      "Jan    62\n",
      "Mar    62\n",
      "May    62\n",
      "Jul    62\n",
      "Aug    62\n",
      "Oct    62\n",
      "Dec    62\n",
      "Apr    60\n",
      "Jun    60\n",
      "Sep    60\n",
      "Nov    60\n",
      "Feb    56\n",
      "Name: mnth, dtype: int64\n"
     ]
    }
   ],
   "source": [
    "col_for_dummy_variables = ['season', 'weathersit', 'weekday', 'mnth']\n",
    "\n",
    "# Checking value_count for each column & creating dummy variables\n",
    "for column_name in col_for_dummy_variables:\n",
    "    \n",
    "    print('\\n------ ' + column_name +' value count------')\n",
    "    print(data[column_name].value_counts())\n",
    "    data = getDummies(data, column_name)"
   ]
  },
  {
   "cell_type": "code",
   "execution_count": 31,
   "id": "744be5b7-90a9-4d21-b1e8-75d22f43dbd9",
   "metadata": {},
   "outputs": [
    {
     "data": {
      "text/html": [
       "<div>\n",
       "<style scoped>\n",
       "    .dataframe tbody tr th:only-of-type {\n",
       "        vertical-align: middle;\n",
       "    }\n",
       "\n",
       "    .dataframe tbody tr th {\n",
       "        vertical-align: top;\n",
       "    }\n",
       "\n",
       "    .dataframe thead th {\n",
       "        text-align: right;\n",
       "    }\n",
       "</style>\n",
       "<table border=\"1\" class=\"dataframe\">\n",
       "  <thead>\n",
       "    <tr style=\"text-align: right;\">\n",
       "      <th></th>\n",
       "      <th>yr</th>\n",
       "      <th>holiday</th>\n",
       "      <th>workingday</th>\n",
       "      <th>temp</th>\n",
       "      <th>hum</th>\n",
       "      <th>windspeed</th>\n",
       "      <th>cnt</th>\n",
       "      <th>Spring</th>\n",
       "      <th>Summer</th>\n",
       "      <th>Winter</th>\n",
       "      <th>...</th>\n",
       "      <th>Dec</th>\n",
       "      <th>Feb</th>\n",
       "      <th>Jan</th>\n",
       "      <th>Jul</th>\n",
       "      <th>Jun</th>\n",
       "      <th>Mar</th>\n",
       "      <th>May</th>\n",
       "      <th>Nov</th>\n",
       "      <th>Oct</th>\n",
       "      <th>Sep</th>\n",
       "    </tr>\n",
       "  </thead>\n",
       "  <tbody>\n",
       "    <tr>\n",
       "      <th>0</th>\n",
       "      <td>0</td>\n",
       "      <td>0</td>\n",
       "      <td>0</td>\n",
       "      <td>14.110847</td>\n",
       "      <td>80.5833</td>\n",
       "      <td>10.749882</td>\n",
       "      <td>985</td>\n",
       "      <td>1</td>\n",
       "      <td>0</td>\n",
       "      <td>0</td>\n",
       "      <td>...</td>\n",
       "      <td>0</td>\n",
       "      <td>0</td>\n",
       "      <td>1</td>\n",
       "      <td>0</td>\n",
       "      <td>0</td>\n",
       "      <td>0</td>\n",
       "      <td>0</td>\n",
       "      <td>0</td>\n",
       "      <td>0</td>\n",
       "      <td>0</td>\n",
       "    </tr>\n",
       "    <tr>\n",
       "      <th>1</th>\n",
       "      <td>0</td>\n",
       "      <td>0</td>\n",
       "      <td>0</td>\n",
       "      <td>14.902598</td>\n",
       "      <td>69.6087</td>\n",
       "      <td>16.652113</td>\n",
       "      <td>801</td>\n",
       "      <td>1</td>\n",
       "      <td>0</td>\n",
       "      <td>0</td>\n",
       "      <td>...</td>\n",
       "      <td>0</td>\n",
       "      <td>0</td>\n",
       "      <td>1</td>\n",
       "      <td>0</td>\n",
       "      <td>0</td>\n",
       "      <td>0</td>\n",
       "      <td>0</td>\n",
       "      <td>0</td>\n",
       "      <td>0</td>\n",
       "      <td>0</td>\n",
       "    </tr>\n",
       "    <tr>\n",
       "      <th>2</th>\n",
       "      <td>0</td>\n",
       "      <td>0</td>\n",
       "      <td>1</td>\n",
       "      <td>8.050924</td>\n",
       "      <td>43.7273</td>\n",
       "      <td>16.636703</td>\n",
       "      <td>1349</td>\n",
       "      <td>1</td>\n",
       "      <td>0</td>\n",
       "      <td>0</td>\n",
       "      <td>...</td>\n",
       "      <td>0</td>\n",
       "      <td>0</td>\n",
       "      <td>1</td>\n",
       "      <td>0</td>\n",
       "      <td>0</td>\n",
       "      <td>0</td>\n",
       "      <td>0</td>\n",
       "      <td>0</td>\n",
       "      <td>0</td>\n",
       "      <td>0</td>\n",
       "    </tr>\n",
       "    <tr>\n",
       "      <th>3</th>\n",
       "      <td>0</td>\n",
       "      <td>0</td>\n",
       "      <td>1</td>\n",
       "      <td>8.200000</td>\n",
       "      <td>59.0435</td>\n",
       "      <td>10.739832</td>\n",
       "      <td>1562</td>\n",
       "      <td>1</td>\n",
       "      <td>0</td>\n",
       "      <td>0</td>\n",
       "      <td>...</td>\n",
       "      <td>0</td>\n",
       "      <td>0</td>\n",
       "      <td>1</td>\n",
       "      <td>0</td>\n",
       "      <td>0</td>\n",
       "      <td>0</td>\n",
       "      <td>0</td>\n",
       "      <td>0</td>\n",
       "      <td>0</td>\n",
       "      <td>0</td>\n",
       "    </tr>\n",
       "    <tr>\n",
       "      <th>4</th>\n",
       "      <td>0</td>\n",
       "      <td>0</td>\n",
       "      <td>1</td>\n",
       "      <td>9.305237</td>\n",
       "      <td>43.6957</td>\n",
       "      <td>12.522300</td>\n",
       "      <td>1600</td>\n",
       "      <td>1</td>\n",
       "      <td>0</td>\n",
       "      <td>0</td>\n",
       "      <td>...</td>\n",
       "      <td>0</td>\n",
       "      <td>0</td>\n",
       "      <td>1</td>\n",
       "      <td>0</td>\n",
       "      <td>0</td>\n",
       "      <td>0</td>\n",
       "      <td>0</td>\n",
       "      <td>0</td>\n",
       "      <td>0</td>\n",
       "      <td>0</td>\n",
       "    </tr>\n",
       "  </tbody>\n",
       "</table>\n",
       "<p>5 rows × 29 columns</p>\n",
       "</div>"
      ],
      "text/plain": [
       "   yr  holiday  workingday       temp      hum  windspeed   cnt  Spring  \\\n",
       "0   0        0           0  14.110847  80.5833  10.749882   985       1   \n",
       "1   0        0           0  14.902598  69.6087  16.652113   801       1   \n",
       "2   0        0           1   8.050924  43.7273  16.636703  1349       1   \n",
       "3   0        0           1   8.200000  59.0435  10.739832  1562       1   \n",
       "4   0        0           1   9.305237  43.6957  12.522300  1600       1   \n",
       "\n",
       "   Summer  Winter  ...  Dec  Feb  Jan  Jul  Jun  Mar  May  Nov  Oct  Sep  \n",
       "0       0       0  ...    0    0    1    0    0    0    0    0    0    0  \n",
       "1       0       0  ...    0    0    1    0    0    0    0    0    0    0  \n",
       "2       0       0  ...    0    0    1    0    0    0    0    0    0    0  \n",
       "3       0       0  ...    0    0    1    0    0    0    0    0    0    0  \n",
       "4       0       0  ...    0    0    1    0    0    0    0    0    0    0  \n",
       "\n",
       "[5 rows x 29 columns]"
      ]
     },
     "execution_count": 31,
     "metadata": {},
     "output_type": "execute_result"
    }
   ],
   "source": [
    "data.head()"
   ]
  },
  {
   "cell_type": "code",
   "execution_count": 32,
   "id": "653aa776-9e64-4fe4-a58a-a3e1beb9b1b1",
   "metadata": {},
   "outputs": [
    {
     "data": {
      "text/plain": [
       "(730, 29)"
      ]
     },
     "execution_count": 32,
     "metadata": {},
     "output_type": "execute_result"
    }
   ],
   "source": [
    "data.shape"
   ]
  },
  {
   "cell_type": "markdown",
   "id": "c374a4e7-b9ee-49ff-9753-d8f76d16184d",
   "metadata": {},
   "source": [
    "## Train-Test Split"
   ]
  },
  {
   "cell_type": "code",
   "execution_count": 33,
   "id": "2f6bc75a-eb67-4834-922e-8cdd719a88a3",
   "metadata": {},
   "outputs": [],
   "source": [
    "# Creating X & y for Data Spliting\n",
    "X = data.drop('cnt', axis=1)\n",
    "y = data['cnt']"
   ]
  },
  {
   "cell_type": "code",
   "execution_count": 34,
   "id": "872aa9b8-0d68-48c3-ab37-11d86282b2a0",
   "metadata": {},
   "outputs": [
    {
     "data": {
      "text/plain": [
       "(730, 28)"
      ]
     },
     "execution_count": 34,
     "metadata": {},
     "output_type": "execute_result"
    }
   ],
   "source": [
    "X.shape"
   ]
  },
  {
   "cell_type": "code",
   "execution_count": 35,
   "id": "ef161946-d259-41e3-a574-c9f8b68eca3f",
   "metadata": {},
   "outputs": [
    {
     "data": {
      "text/plain": [
       "(730,)"
      ]
     },
     "execution_count": 35,
     "metadata": {},
     "output_type": "execute_result"
    }
   ],
   "source": [
    "y.shape"
   ]
  },
  {
   "cell_type": "code",
   "execution_count": 36,
   "id": "37a867f4-36d7-40b8-8e69-569763eff955",
   "metadata": {},
   "outputs": [],
   "source": [
    "from sklearn.model_selection import train_test_split\n",
    "\n",
    "# This initializes the random number generator with a fixed seed value which determines the starting point of the sequence of random numbers\n",
    "np.random.seed(0)\n",
    "\n",
    "df_train_X, df_test_X, df_train_y, df_test_y = train_test_split(X, y, train_size=0.7, random_state=10)"
   ]
  },
  {
   "cell_type": "code",
   "execution_count": 37,
   "id": "846b2ef7-1eef-4250-a015-070fc5cad165",
   "metadata": {},
   "outputs": [
    {
     "name": "stdout",
     "output_type": "stream",
     "text": [
      "\n",
      "--- X ---\n",
      "\n",
      "     yr  holiday  workingday       temp      hum  windspeed  Spring  Summer  \\\n",
      "72    0        0           1  13.333897  49.6957   9.174042       1       0   \n",
      "510   1        0           0  28.392500  73.2500  13.332464       0       1   \n",
      "700   1        0           0  14.247500  82.3333   8.333393       0       0   \n",
      "264   0        0           1  25.761653  90.2083   8.584375       0       0   \n",
      "577   1        0           1  29.417500  67.7500   9.458993       0       0   \n",
      "\n",
      "     Winter  Light_Snow  ...  Dec  Feb  Jan  Jul  Jun  Mar  May  Nov  Oct  Sep  \n",
      "72        0           0  ...    0    0    0    0    0    1    0    0    0    0  \n",
      "510       0           0  ...    0    0    0    0    0    0    1    0    0    0  \n",
      "700       1           0  ...    1    0    0    0    0    0    0    0    0    0  \n",
      "264       0           0  ...    0    0    0    0    0    0    0    0    0    1  \n",
      "577       0           0  ...    0    0    0    0    0    0    0    0    0    0  \n",
      "\n",
      "[5 rows x 28 columns]\n",
      "\n",
      "Shape:  (510, 28)\n",
      "\n",
      "\n",
      "--- y ---\n",
      "\n",
      "72     2046\n",
      "510    6536\n",
      "700    4649\n",
      "264    4795\n",
      "577    7580\n",
      "Name: cnt, dtype: int64\n",
      "\n",
      "Shape:  (510,)\n"
     ]
    }
   ],
   "source": [
    "# Training Data\n",
    "print('\\n--- X ---\\n')\n",
    "print(df_train_X.head())\n",
    "print('\\nShape: ',df_train_X.shape)\n",
    "\n",
    "print('\\n\\n--- y ---\\n')\n",
    "print(df_train_y.head())\n",
    "print('\\nShape: ',df_train_y.shape)"
   ]
  },
  {
   "cell_type": "code",
   "execution_count": 38,
   "id": "295532d1-e597-4b34-9089-3ff395387890",
   "metadata": {},
   "outputs": [
    {
     "name": "stdout",
     "output_type": "stream",
     "text": [
      "\n",
      "--- X ---\n",
      "\n",
      "     yr  holiday  workingday       temp      hum  windspeed  Spring  Summer  \\\n",
      "566   1        0           0  24.429153  86.5417  14.291100       0       0   \n",
      "374   1        0           1  12.656536  64.6522  12.565984       1       0   \n",
      "181   0        0           1  29.622500  39.6250   6.874736       0       0   \n",
      "529   1        0           1  26.581653  56.9583  17.000111       0       1   \n",
      "233   0        0           1  28.358347  47.0000  18.542250       0       0   \n",
      "\n",
      "     Winter  Light_Snow  ...  Dec  Feb  Jan  Jul  Jun  Mar  May  Nov  Oct  Sep  \n",
      "566       0           1  ...    0    0    0    1    0    0    0    0    0    0  \n",
      "374       0           0  ...    0    0    1    0    0    0    0    0    0    0  \n",
      "181       0           0  ...    0    0    0    1    0    0    0    0    0    0  \n",
      "529       0           0  ...    0    0    0    0    1    0    0    0    0    0  \n",
      "233       0           0  ...    0    0    0    0    0    0    0    0    0    0  \n",
      "\n",
      "[5 rows x 28 columns]\n",
      "\n",
      "Shape:  (220, 28)\n",
      "\n",
      "\n",
      "--- y ---\n",
      "\n",
      "566    4459\n",
      "374    3598\n",
      "181    5362\n",
      "529    7363\n",
      "233    4758\n",
      "Name: cnt, dtype: int64\n",
      "\n",
      "Shape:  (220,)\n"
     ]
    }
   ],
   "source": [
    "# Test Data\n",
    "print('\\n--- X ---\\n')\n",
    "print(df_test_X.head())\n",
    "print('\\nShape: ',df_test_X.shape)\n",
    "\n",
    "print('\\n\\n--- y ---\\n')\n",
    "print(df_test_y.head())\n",
    "print('\\nShape: ',df_test_y.shape)"
   ]
  },
  {
   "cell_type": "markdown",
   "id": "aea16136-1b5e-42c3-bfe4-c4f0126bb6de",
   "metadata": {
    "tags": []
   },
   "source": [
    "# Feature Scaling"
   ]
  },
  {
   "cell_type": "code",
   "execution_count": 39,
   "id": "e01c7c5f-4e91-499c-8f94-c39124e8642f",
   "metadata": {},
   "outputs": [
    {
     "data": {
      "text/html": [
       "<div>\n",
       "<style scoped>\n",
       "    .dataframe tbody tr th:only-of-type {\n",
       "        vertical-align: middle;\n",
       "    }\n",
       "\n",
       "    .dataframe tbody tr th {\n",
       "        vertical-align: top;\n",
       "    }\n",
       "\n",
       "    .dataframe thead th {\n",
       "        text-align: right;\n",
       "    }\n",
       "</style>\n",
       "<table border=\"1\" class=\"dataframe\">\n",
       "  <thead>\n",
       "    <tr style=\"text-align: right;\">\n",
       "      <th></th>\n",
       "      <th>yr</th>\n",
       "      <th>holiday</th>\n",
       "      <th>workingday</th>\n",
       "      <th>temp</th>\n",
       "      <th>hum</th>\n",
       "      <th>windspeed</th>\n",
       "      <th>Spring</th>\n",
       "      <th>Summer</th>\n",
       "      <th>Winter</th>\n",
       "      <th>Light_Snow</th>\n",
       "      <th>...</th>\n",
       "      <th>Dec</th>\n",
       "      <th>Feb</th>\n",
       "      <th>Jan</th>\n",
       "      <th>Jul</th>\n",
       "      <th>Jun</th>\n",
       "      <th>Mar</th>\n",
       "      <th>May</th>\n",
       "      <th>Nov</th>\n",
       "      <th>Oct</th>\n",
       "      <th>Sep</th>\n",
       "    </tr>\n",
       "  </thead>\n",
       "  <tbody>\n",
       "    <tr>\n",
       "      <th>72</th>\n",
       "      <td>0</td>\n",
       "      <td>0</td>\n",
       "      <td>1</td>\n",
       "      <td>0.298094</td>\n",
       "      <td>0.393891</td>\n",
       "      <td>0.236118</td>\n",
       "      <td>1</td>\n",
       "      <td>0</td>\n",
       "      <td>0</td>\n",
       "      <td>0</td>\n",
       "      <td>...</td>\n",
       "      <td>0</td>\n",
       "      <td>0</td>\n",
       "      <td>0</td>\n",
       "      <td>0</td>\n",
       "      <td>0</td>\n",
       "      <td>1</td>\n",
       "      <td>0</td>\n",
       "      <td>0</td>\n",
       "      <td>0</td>\n",
       "      <td>0</td>\n",
       "    </tr>\n",
       "    <tr>\n",
       "      <th>510</th>\n",
       "      <td>1</td>\n",
       "      <td>0</td>\n",
       "      <td>0</td>\n",
       "      <td>0.778657</td>\n",
       "      <td>0.694105</td>\n",
       "      <td>0.364071</td>\n",
       "      <td>0</td>\n",
       "      <td>1</td>\n",
       "      <td>0</td>\n",
       "      <td>0</td>\n",
       "      <td>...</td>\n",
       "      <td>0</td>\n",
       "      <td>0</td>\n",
       "      <td>0</td>\n",
       "      <td>0</td>\n",
       "      <td>0</td>\n",
       "      <td>0</td>\n",
       "      <td>1</td>\n",
       "      <td>0</td>\n",
       "      <td>0</td>\n",
       "      <td>0</td>\n",
       "    </tr>\n",
       "    <tr>\n",
       "      <th>700</th>\n",
       "      <td>1</td>\n",
       "      <td>0</td>\n",
       "      <td>0</td>\n",
       "      <td>0.327249</td>\n",
       "      <td>0.809877</td>\n",
       "      <td>0.210252</td>\n",
       "      <td>0</td>\n",
       "      <td>0</td>\n",
       "      <td>1</td>\n",
       "      <td>0</td>\n",
       "      <td>...</td>\n",
       "      <td>1</td>\n",
       "      <td>0</td>\n",
       "      <td>0</td>\n",
       "      <td>0</td>\n",
       "      <td>0</td>\n",
       "      <td>0</td>\n",
       "      <td>0</td>\n",
       "      <td>0</td>\n",
       "      <td>0</td>\n",
       "      <td>0</td>\n",
       "    </tr>\n",
       "    <tr>\n",
       "      <th>264</th>\n",
       "      <td>0</td>\n",
       "      <td>0</td>\n",
       "      <td>1</td>\n",
       "      <td>0.694699</td>\n",
       "      <td>0.910249</td>\n",
       "      <td>0.217975</td>\n",
       "      <td>0</td>\n",
       "      <td>0</td>\n",
       "      <td>0</td>\n",
       "      <td>0</td>\n",
       "      <td>...</td>\n",
       "      <td>0</td>\n",
       "      <td>0</td>\n",
       "      <td>0</td>\n",
       "      <td>0</td>\n",
       "      <td>0</td>\n",
       "      <td>0</td>\n",
       "      <td>0</td>\n",
       "      <td>0</td>\n",
       "      <td>0</td>\n",
       "      <td>1</td>\n",
       "    </tr>\n",
       "    <tr>\n",
       "      <th>577</th>\n",
       "      <td>1</td>\n",
       "      <td>0</td>\n",
       "      <td>1</td>\n",
       "      <td>0.811368</td>\n",
       "      <td>0.624004</td>\n",
       "      <td>0.244886</td>\n",
       "      <td>0</td>\n",
       "      <td>0</td>\n",
       "      <td>0</td>\n",
       "      <td>0</td>\n",
       "      <td>...</td>\n",
       "      <td>0</td>\n",
       "      <td>0</td>\n",
       "      <td>0</td>\n",
       "      <td>0</td>\n",
       "      <td>0</td>\n",
       "      <td>0</td>\n",
       "      <td>0</td>\n",
       "      <td>0</td>\n",
       "      <td>0</td>\n",
       "      <td>0</td>\n",
       "    </tr>\n",
       "  </tbody>\n",
       "</table>\n",
       "<p>5 rows × 28 columns</p>\n",
       "</div>"
      ],
      "text/plain": [
       "     yr  holiday  workingday      temp       hum  windspeed  Spring  Summer  \\\n",
       "72    0        0           1  0.298094  0.393891   0.236118       1       0   \n",
       "510   1        0           0  0.778657  0.694105   0.364071       0       1   \n",
       "700   1        0           0  0.327249  0.809877   0.210252       0       0   \n",
       "264   0        0           1  0.694699  0.910249   0.217975       0       0   \n",
       "577   1        0           1  0.811368  0.624004   0.244886       0       0   \n",
       "\n",
       "     Winter  Light_Snow  ...  Dec  Feb  Jan  Jul  Jun  Mar  May  Nov  Oct  Sep  \n",
       "72        0           0  ...    0    0    0    0    0    1    0    0    0    0  \n",
       "510       0           0  ...    0    0    0    0    0    0    1    0    0    0  \n",
       "700       1           0  ...    1    0    0    0    0    0    0    0    0    0  \n",
       "264       0           0  ...    0    0    0    0    0    0    0    0    0    1  \n",
       "577       0           0  ...    0    0    0    0    0    0    0    0    0    0  \n",
       "\n",
       "[5 rows x 28 columns]"
      ]
     },
     "execution_count": 39,
     "metadata": {},
     "output_type": "execute_result"
    }
   ],
   "source": [
    "from sklearn.preprocessing import MinMaxScaler\n",
    "\n",
    "# Initializing MinMaxScaler object\n",
    "scaler = MinMaxScaler()\n",
    "\n",
    "# Creating a list of columns to be scaled\n",
    "features_to_scale = ['temp', 'hum', 'windspeed']\n",
    "\n",
    "# Performing feature scaling\n",
    "df_train_X[features_to_scale] = scaler.fit_transform(df_train_X[features_to_scale])\n",
    "\n",
    "df_train_X.head()"
   ]
  },
  {
   "cell_type": "markdown",
   "id": "aea08340-a46e-495e-a173-a9c198cf4df9",
   "metadata": {},
   "source": [
    "# Model Building"
   ]
  },
  {
   "cell_type": "markdown",
   "id": "e4208025-5c61-4137-97b9-c95731692d4e",
   "metadata": {},
   "source": [
    "## Model Building using RFE - Feature Selection"
   ]
  },
  {
   "cell_type": "code",
   "execution_count": 44,
   "id": "cdc9195f-39cc-486d-88e1-b571b237a327",
   "metadata": {},
   "outputs": [],
   "source": [
    "from sklearn.feature_selection import RFE\n",
    "from sklearn.linear_model import LinearRegression"
   ]
  },
  {
   "cell_type": "code",
   "execution_count": 45,
   "id": "32f8b478-4d9f-4b47-89c9-156a075adf47",
   "metadata": {},
   "outputs": [],
   "source": [
    "# Creating linear regression model object\n",
    "lm = LinearRegression()\n",
    "\n",
    "# It fits a linear regression Model to the training data\n",
    "''' This method estimates the coefficients (or weights) of the linear regression model by minimizing the residual sum of squares \n",
    "between the predicted values and the actual values on the training data. '''\n",
    "lm.fit(df_train_X, df_train_y)\n",
    "\n",
    "# It initializes an RFE object with the specified arguments\n",
    "''' \n",
    "Arguments:\n",
    "\n",
    "-> estimator: This is the model that will be used by the RFE algorithm to select the most important features.\n",
    "-> n_features_to_select: This is the number of features that will be selected by the RFE algorithm.\n",
    "\n",
    "'''\n",
    "rfe = RFE(estimator=lm, n_features_to_select=15)\n",
    "\n",
    "# It fits the RFE estimator to the training data and selects the optimal number of features\n",
    "'''\n",
    "The RFE algorithm is a feature selection method that selects the most important features based on their contribution to the model's performance. It works\n",
    "by recursively removing less important features and re-fitting the model until the desired number of features is reached.\n",
    "\n",
    "'''\n",
    "rfe = rfe.fit(df_train_X, df_train_y)"
   ]
  },
  {
   "cell_type": "code",
   "execution_count": 46,
   "id": "8f559e5c-c188-4e07-9563-b759537760c8",
   "metadata": {},
   "outputs": [
    {
     "data": {
      "text/plain": [
       "[('yr', True, 1),\n",
       " ('holiday', True, 1),\n",
       " ('workingday', False, 3),\n",
       " ('temp', True, 1),\n",
       " ('hum', True, 1),\n",
       " ('windspeed', True, 1),\n",
       " ('Spring', True, 1),\n",
       " ('Summer', False, 12),\n",
       " ('Winter', True, 1),\n",
       " ('Light_Snow', True, 1),\n",
       " ('Mist', True, 1),\n",
       " ('Mon', False, 6),\n",
       " ('Sat', False, 2),\n",
       " ('Sun', False, 9),\n",
       " ('Thu', False, 13),\n",
       " ('Tue', False, 11),\n",
       " ('Wed', False, 14),\n",
       " ('Aug', False, 4),\n",
       " ('Dec', True, 1),\n",
       " ('Feb', True, 1),\n",
       " ('Jan', True, 1),\n",
       " ('Jul', True, 1),\n",
       " ('Jun', False, 5),\n",
       " ('Mar', False, 8),\n",
       " ('May', False, 7),\n",
       " ('Nov', True, 1),\n",
       " ('Oct', False, 10),\n",
       " ('Sep', True, 1)]"
      ]
     },
     "execution_count": 46,
     "metadata": {},
     "output_type": "execute_result"
    }
   ],
   "source": [
    "# This create a list of all features/ columns with whether a particular column is selected or not (True & False) and it's ranking where '1' indicates selected variables\n",
    "list(zip(df_train_X.columns,rfe.support_,rfe.ranking_))"
   ]
  },
  {
   "cell_type": "code",
   "execution_count": 47,
   "id": "13159aab-1e42-41a2-af40-7a715ecaa13c",
   "metadata": {},
   "outputs": [
    {
     "data": {
      "text/plain": [
       "Index(['yr', 'holiday', 'temp', 'hum', 'windspeed', 'Spring', 'Winter',\n",
       "       'Light_Snow', 'Mist', 'Dec', 'Feb', 'Jan', 'Jul', 'Nov', 'Sep'],\n",
       "      dtype='object')"
      ]
     },
     "execution_count": 47,
     "metadata": {},
     "output_type": "execute_result"
    }
   ],
   "source": [
    "cols_selected_by_RFE = df_train_X.columns[rfe.support_]\n",
    "cols_selected_by_RFE"
   ]
  },
  {
   "cell_type": "markdown",
   "id": "31b06a3e-294e-404b-a201-9045a4142e7b",
   "metadata": {},
   "source": [
    "## Model Building using Stats Model for Statistics"
   ]
  },
  {
   "cell_type": "code",
   "execution_count": 48,
   "id": "b422a62f-5cc1-4188-8993-2dfc2b9bdf11",
   "metadata": {},
   "outputs": [
    {
     "data": {
      "text/html": [
       "<div>\n",
       "<style scoped>\n",
       "    .dataframe tbody tr th:only-of-type {\n",
       "        vertical-align: middle;\n",
       "    }\n",
       "\n",
       "    .dataframe tbody tr th {\n",
       "        vertical-align: top;\n",
       "    }\n",
       "\n",
       "    .dataframe thead th {\n",
       "        text-align: right;\n",
       "    }\n",
       "</style>\n",
       "<table border=\"1\" class=\"dataframe\">\n",
       "  <thead>\n",
       "    <tr style=\"text-align: right;\">\n",
       "      <th></th>\n",
       "      <th>yr</th>\n",
       "      <th>holiday</th>\n",
       "      <th>temp</th>\n",
       "      <th>hum</th>\n",
       "      <th>windspeed</th>\n",
       "      <th>Spring</th>\n",
       "      <th>Winter</th>\n",
       "      <th>Light_Snow</th>\n",
       "      <th>Mist</th>\n",
       "      <th>Dec</th>\n",
       "      <th>Feb</th>\n",
       "      <th>Jan</th>\n",
       "      <th>Jul</th>\n",
       "      <th>Nov</th>\n",
       "      <th>Sep</th>\n",
       "    </tr>\n",
       "  </thead>\n",
       "  <tbody>\n",
       "    <tr>\n",
       "      <th>72</th>\n",
       "      <td>0</td>\n",
       "      <td>0</td>\n",
       "      <td>0.298094</td>\n",
       "      <td>0.393891</td>\n",
       "      <td>0.236118</td>\n",
       "      <td>1</td>\n",
       "      <td>0</td>\n",
       "      <td>0</td>\n",
       "      <td>0</td>\n",
       "      <td>0</td>\n",
       "      <td>0</td>\n",
       "      <td>0</td>\n",
       "      <td>0</td>\n",
       "      <td>0</td>\n",
       "      <td>0</td>\n",
       "    </tr>\n",
       "    <tr>\n",
       "      <th>510</th>\n",
       "      <td>1</td>\n",
       "      <td>0</td>\n",
       "      <td>0.778657</td>\n",
       "      <td>0.694105</td>\n",
       "      <td>0.364071</td>\n",
       "      <td>0</td>\n",
       "      <td>0</td>\n",
       "      <td>0</td>\n",
       "      <td>0</td>\n",
       "      <td>0</td>\n",
       "      <td>0</td>\n",
       "      <td>0</td>\n",
       "      <td>0</td>\n",
       "      <td>0</td>\n",
       "      <td>0</td>\n",
       "    </tr>\n",
       "    <tr>\n",
       "      <th>700</th>\n",
       "      <td>1</td>\n",
       "      <td>0</td>\n",
       "      <td>0.327249</td>\n",
       "      <td>0.809877</td>\n",
       "      <td>0.210252</td>\n",
       "      <td>0</td>\n",
       "      <td>1</td>\n",
       "      <td>0</td>\n",
       "      <td>1</td>\n",
       "      <td>1</td>\n",
       "      <td>0</td>\n",
       "      <td>0</td>\n",
       "      <td>0</td>\n",
       "      <td>0</td>\n",
       "      <td>0</td>\n",
       "    </tr>\n",
       "    <tr>\n",
       "      <th>264</th>\n",
       "      <td>0</td>\n",
       "      <td>0</td>\n",
       "      <td>0.694699</td>\n",
       "      <td>0.910249</td>\n",
       "      <td>0.217975</td>\n",
       "      <td>0</td>\n",
       "      <td>0</td>\n",
       "      <td>0</td>\n",
       "      <td>1</td>\n",
       "      <td>0</td>\n",
       "      <td>0</td>\n",
       "      <td>0</td>\n",
       "      <td>0</td>\n",
       "      <td>0</td>\n",
       "      <td>1</td>\n",
       "    </tr>\n",
       "    <tr>\n",
       "      <th>577</th>\n",
       "      <td>1</td>\n",
       "      <td>0</td>\n",
       "      <td>0.811368</td>\n",
       "      <td>0.624004</td>\n",
       "      <td>0.244886</td>\n",
       "      <td>0</td>\n",
       "      <td>0</td>\n",
       "      <td>0</td>\n",
       "      <td>0</td>\n",
       "      <td>0</td>\n",
       "      <td>0</td>\n",
       "      <td>0</td>\n",
       "      <td>0</td>\n",
       "      <td>0</td>\n",
       "      <td>0</td>\n",
       "    </tr>\n",
       "  </tbody>\n",
       "</table>\n",
       "</div>"
      ],
      "text/plain": [
       "     yr  holiday      temp       hum  windspeed  Spring  Winter  Light_Snow  \\\n",
       "72    0        0  0.298094  0.393891   0.236118       1       0           0   \n",
       "510   1        0  0.778657  0.694105   0.364071       0       0           0   \n",
       "700   1        0  0.327249  0.809877   0.210252       0       1           0   \n",
       "264   0        0  0.694699  0.910249   0.217975       0       0           0   \n",
       "577   1        0  0.811368  0.624004   0.244886       0       0           0   \n",
       "\n",
       "     Mist  Dec  Feb  Jan  Jul  Nov  Sep  \n",
       "72      0    0    0    0    0    0    0  \n",
       "510     0    0    0    0    0    0    0  \n",
       "700     1    1    0    0    0    0    0  \n",
       "264     1    0    0    0    0    0    1  \n",
       "577     0    0    0    0    0    0    0  "
      ]
     },
     "execution_count": 48,
     "metadata": {},
     "output_type": "execute_result"
    }
   ],
   "source": [
    "# creating a dataframe with the columns selected by the RFE for stats model\n",
    "df_train_X_rfe = df_train_X[cols_selected_by_RFE]\n",
    "df_train_X_rfe.head()"
   ]
  },
  {
   "cell_type": "code",
   "execution_count": 49,
   "id": "5e04e4eb-d47f-4972-bf8d-a9988a844f80",
   "metadata": {},
   "outputs": [
    {
     "data": {
      "text/plain": [
       "(510, 15)"
      ]
     },
     "execution_count": 49,
     "metadata": {},
     "output_type": "execute_result"
    }
   ],
   "source": [
    "df_train_X_rfe.shape"
   ]
  },
  {
   "cell_type": "code",
   "execution_count": 65,
   "id": "e17a96ad-f60c-429e-81a0-f526cf917882",
   "metadata": {},
   "outputs": [],
   "source": [
    "''' Don't add constant in the same data variable rather create new as we 'll be needing that for VIF '''\n",
    "\n",
    "\n",
    "import statsmodels.api as sm\n",
    "\n",
    "# Method to build model\n",
    "def build_model(train_data_X, train_data_y):\n",
    "\n",
    "    # Adding a constant variable\n",
    "    train_data_X_sm = sm.add_constant(train_data_X)\n",
    "\n",
    "    # Creating a linear model\n",
    "    model = sm.OLS(train_data_y, train_data_X_sm).fit()\n",
    "\n",
    "    return model, train_data_X_sm\n",
    "\n",
    "\n",
    "\n",
    "from statsmodels.stats.outliers_influence import variance_inflation_factor\n",
    "\n",
    "# Method to get VIF\n",
    "def get_vif(train_data_X):\n",
    "    vif = pd.DataFrame()\n",
    "    X = train_data_X\n",
    "    vif['Features'] = X.columns\n",
    "    vif['VIF'] = [variance_inflation_factor(X.values, i) for i in range(X.shape[1])]\n",
    "    vif['VIF'] = round(vif['VIF'], 2)\n",
    "    vif = vif.sort_values(by = \"VIF\", ascending = False)\n",
    "    return vif"
   ]
  },
  {
   "cell_type": "markdown",
   "id": "902cdd19-60f6-416c-8d21-958ab9ee9bfe",
   "metadata": {},
   "source": [
    "### 1st Model"
   ]
  },
  {
   "cell_type": "markdown",
   "id": "f2cbb08d-8133-42c7-b885-da83338af311",
   "metadata": {},
   "source": [
    "#### Creating Model"
   ]
  },
  {
   "cell_type": "code",
   "execution_count": 66,
   "id": "a4829940-c5fb-4b36-85ca-6e2d5692139d",
   "metadata": {},
   "outputs": [
    {
     "data": {
      "text/html": [
       "<table class=\"simpletable\">\n",
       "<caption>OLS Regression Results</caption>\n",
       "<tr>\n",
       "  <th>Dep. Variable:</th>           <td>cnt</td>       <th>  R-squared:         </th> <td>   0.840</td> \n",
       "</tr>\n",
       "<tr>\n",
       "  <th>Model:</th>                   <td>OLS</td>       <th>  Adj. R-squared:    </th> <td>   0.835</td> \n",
       "</tr>\n",
       "<tr>\n",
       "  <th>Method:</th>             <td>Least Squares</td>  <th>  F-statistic:       </th> <td>   185.4</td> \n",
       "</tr>\n",
       "<tr>\n",
       "  <th>Date:</th>             <td>Fri, 02 Jun 2023</td> <th>  Prob (F-statistic):</th> <td>1.59e-186</td>\n",
       "</tr>\n",
       "<tr>\n",
       "  <th>Time:</th>                 <td>15:32:29</td>     <th>  Log-Likelihood:    </th> <td> -4121.3</td> \n",
       "</tr>\n",
       "<tr>\n",
       "  <th>No. Observations:</th>      <td>   510</td>      <th>  AIC:               </th> <td>   8273.</td> \n",
       "</tr>\n",
       "<tr>\n",
       "  <th>Df Residuals:</th>          <td>   495</td>      <th>  BIC:               </th> <td>   8336.</td> \n",
       "</tr>\n",
       "<tr>\n",
       "  <th>Df Model:</th>              <td>    14</td>      <th>                     </th>     <td> </td>    \n",
       "</tr>\n",
       "<tr>\n",
       "  <th>Covariance Type:</th>      <td>nonrobust</td>    <th>                     </th>     <td> </td>    \n",
       "</tr>\n",
       "</table>\n",
       "<table class=\"simpletable\">\n",
       "<tr>\n",
       "       <td></td>         <th>coef</th>     <th>std err</th>      <th>t</th>      <th>P>|t|</th>  <th>[0.025</th>    <th>0.975]</th>  \n",
       "</tr>\n",
       "<tr>\n",
       "  <th>const</th>      <td> 2912.8716</td> <td>  211.153</td> <td>   13.795</td> <td> 0.000</td> <td> 2498.005</td> <td> 3327.738</td>\n",
       "</tr>\n",
       "<tr>\n",
       "  <th>yr</th>         <td> 2123.5137</td> <td>   71.104</td> <td>   29.865</td> <td> 0.000</td> <td> 1983.812</td> <td> 2263.216</td>\n",
       "</tr>\n",
       "<tr>\n",
       "  <th>holiday</th>    <td> -670.2615</td> <td>  197.904</td> <td>   -3.387</td> <td> 0.001</td> <td>-1059.097</td> <td> -281.426</td>\n",
       "</tr>\n",
       "<tr>\n",
       "  <th>temp</th>       <td> 2969.5969</td> <td>  273.745</td> <td>   10.848</td> <td> 0.000</td> <td> 2431.751</td> <td> 3507.443</td>\n",
       "</tr>\n",
       "<tr>\n",
       "  <th>windspeed</th>  <td>-1149.2326</td> <td>  226.740</td> <td>   -5.068</td> <td> 0.000</td> <td>-1594.725</td> <td> -703.741</td>\n",
       "</tr>\n",
       "<tr>\n",
       "  <th>Spring</th>     <td> -857.1183</td> <td>  158.350</td> <td>   -5.413</td> <td> 0.000</td> <td>-1168.239</td> <td> -545.997</td>\n",
       "</tr>\n",
       "<tr>\n",
       "  <th>Winter</th>     <td>  664.4985</td> <td>  119.042</td> <td>    5.582</td> <td> 0.000</td> <td>  430.608</td> <td>  898.389</td>\n",
       "</tr>\n",
       "<tr>\n",
       "  <th>Light_Snow</th> <td>-2252.2484</td> <td>  202.892</td> <td>  -11.101</td> <td> 0.000</td> <td>-2650.883</td> <td>-1853.613</td>\n",
       "</tr>\n",
       "<tr>\n",
       "  <th>Mist</th>       <td> -716.8387</td> <td>   76.225</td> <td>   -9.404</td> <td> 0.000</td> <td> -866.603</td> <td> -567.074</td>\n",
       "</tr>\n",
       "<tr>\n",
       "  <th>Dec</th>        <td> -694.5907</td> <td>  153.905</td> <td>   -4.513</td> <td> 0.000</td> <td> -996.979</td> <td> -392.202</td>\n",
       "</tr>\n",
       "<tr>\n",
       "  <th>Feb</th>        <td> -491.7749</td> <td>  188.465</td> <td>   -2.609</td> <td> 0.009</td> <td> -862.065</td> <td> -121.485</td>\n",
       "</tr>\n",
       "<tr>\n",
       "  <th>Jan</th>        <td> -747.2930</td> <td>  188.720</td> <td>   -3.960</td> <td> 0.000</td> <td>-1118.083</td> <td> -376.503</td>\n",
       "</tr>\n",
       "<tr>\n",
       "  <th>Jul</th>        <td> -452.9931</td> <td>  159.505</td> <td>   -2.840</td> <td> 0.005</td> <td> -766.383</td> <td> -139.603</td>\n",
       "</tr>\n",
       "<tr>\n",
       "  <th>Nov</th>        <td> -731.7705</td> <td>  163.194</td> <td>   -4.484</td> <td> 0.000</td> <td>-1052.409</td> <td> -411.132</td>\n",
       "</tr>\n",
       "<tr>\n",
       "  <th>Sep</th>        <td>  351.3877</td> <td>  130.025</td> <td>    2.702</td> <td> 0.007</td> <td>   95.919</td> <td>  606.857</td>\n",
       "</tr>\n",
       "</table>\n",
       "<table class=\"simpletable\">\n",
       "<tr>\n",
       "  <th>Omnibus:</th>       <td>83.886</td> <th>  Durbin-Watson:     </th> <td>   2.075</td>\n",
       "</tr>\n",
       "<tr>\n",
       "  <th>Prob(Omnibus):</th> <td> 0.000</td> <th>  Jarque-Bera (JB):  </th> <td> 250.532</td>\n",
       "</tr>\n",
       "<tr>\n",
       "  <th>Skew:</th>          <td>-0.775</td> <th>  Prob(JB):          </th> <td>3.96e-55</td>\n",
       "</tr>\n",
       "<tr>\n",
       "  <th>Kurtosis:</th>      <td> 6.064</td> <th>  Cond. No.          </th> <td>    14.8</td>\n",
       "</tr>\n",
       "</table><br/><br/>Notes:<br/>[1] Standard Errors assume that the covariance matrix of the errors is correctly specified."
      ],
      "text/plain": [
       "<class 'statsmodels.iolib.summary.Summary'>\n",
       "\"\"\"\n",
       "                            OLS Regression Results                            \n",
       "==============================================================================\n",
       "Dep. Variable:                    cnt   R-squared:                       0.840\n",
       "Model:                            OLS   Adj. R-squared:                  0.835\n",
       "Method:                 Least Squares   F-statistic:                     185.4\n",
       "Date:                Fri, 02 Jun 2023   Prob (F-statistic):          1.59e-186\n",
       "Time:                        15:32:29   Log-Likelihood:                -4121.3\n",
       "No. Observations:                 510   AIC:                             8273.\n",
       "Df Residuals:                     495   BIC:                             8336.\n",
       "Df Model:                          14                                         \n",
       "Covariance Type:            nonrobust                                         \n",
       "==============================================================================\n",
       "                 coef    std err          t      P>|t|      [0.025      0.975]\n",
       "------------------------------------------------------------------------------\n",
       "const       2912.8716    211.153     13.795      0.000    2498.005    3327.738\n",
       "yr          2123.5137     71.104     29.865      0.000    1983.812    2263.216\n",
       "holiday     -670.2615    197.904     -3.387      0.001   -1059.097    -281.426\n",
       "temp        2969.5969    273.745     10.848      0.000    2431.751    3507.443\n",
       "windspeed  -1149.2326    226.740     -5.068      0.000   -1594.725    -703.741\n",
       "Spring      -857.1183    158.350     -5.413      0.000   -1168.239    -545.997\n",
       "Winter       664.4985    119.042      5.582      0.000     430.608     898.389\n",
       "Light_Snow -2252.2484    202.892    -11.101      0.000   -2650.883   -1853.613\n",
       "Mist        -716.8387     76.225     -9.404      0.000    -866.603    -567.074\n",
       "Dec         -694.5907    153.905     -4.513      0.000    -996.979    -392.202\n",
       "Feb         -491.7749    188.465     -2.609      0.009    -862.065    -121.485\n",
       "Jan         -747.2930    188.720     -3.960      0.000   -1118.083    -376.503\n",
       "Jul         -452.9931    159.505     -2.840      0.005    -766.383    -139.603\n",
       "Nov         -731.7705    163.194     -4.484      0.000   -1052.409    -411.132\n",
       "Sep          351.3877    130.025      2.702      0.007      95.919     606.857\n",
       "==============================================================================\n",
       "Omnibus:                       83.886   Durbin-Watson:                   2.075\n",
       "Prob(Omnibus):                  0.000   Jarque-Bera (JB):              250.532\n",
       "Skew:                          -0.775   Prob(JB):                     3.96e-55\n",
       "Kurtosis:                       6.064   Cond. No.                         14.8\n",
       "==============================================================================\n",
       "\n",
       "Notes:\n",
       "[1] Standard Errors assume that the covariance matrix of the errors is correctly specified.\n",
       "\"\"\""
      ]
     },
     "execution_count": 66,
     "metadata": {},
     "output_type": "execute_result"
    }
   ],
   "source": [
    "lm_1, X_data_train_sm_1 = build_model(df_train_X_rfe, df_train_y)\n",
    "lm_1.summary()"
   ]
  },
  {
   "cell_type": "markdown",
   "id": "80c93a85-5a3a-4e3a-bbcf-64dc9b02c325",
   "metadata": {},
   "source": [
    "#### Calculating VIF\n",
    "\n",
    "Imp: Don't feed data with constant variable. Need to give that data which we had prior to adding constant variable"
   ]
  },
  {
   "cell_type": "code",
   "execution_count": 67,
   "id": "b6904b32-ee9c-45c6-bbcf-d67e3602f7f3",
   "metadata": {},
   "outputs": [
    {
     "data": {
      "text/html": [
       "<div>\n",
       "<style scoped>\n",
       "    .dataframe tbody tr th:only-of-type {\n",
       "        vertical-align: middle;\n",
       "    }\n",
       "\n",
       "    .dataframe tbody tr th {\n",
       "        vertical-align: top;\n",
       "    }\n",
       "\n",
       "    .dataframe thead th {\n",
       "        text-align: right;\n",
       "    }\n",
       "</style>\n",
       "<table border=\"1\" class=\"dataframe\">\n",
       "  <thead>\n",
       "    <tr style=\"text-align: right;\">\n",
       "      <th></th>\n",
       "      <th>Features</th>\n",
       "      <th>VIF</th>\n",
       "    </tr>\n",
       "  </thead>\n",
       "  <tbody>\n",
       "    <tr>\n",
       "      <th>2</th>\n",
       "      <td>temp</td>\n",
       "      <td>4.97</td>\n",
       "    </tr>\n",
       "    <tr>\n",
       "      <th>3</th>\n",
       "      <td>windspeed</td>\n",
       "      <td>4.77</td>\n",
       "    </tr>\n",
       "    <tr>\n",
       "      <th>4</th>\n",
       "      <td>Spring</td>\n",
       "      <td>4.20</td>\n",
       "    </tr>\n",
       "    <tr>\n",
       "      <th>5</th>\n",
       "      <td>Winter</td>\n",
       "      <td>2.61</td>\n",
       "    </tr>\n",
       "    <tr>\n",
       "      <th>10</th>\n",
       "      <td>Jan</td>\n",
       "      <td>2.29</td>\n",
       "    </tr>\n",
       "    <tr>\n",
       "      <th>9</th>\n",
       "      <td>Feb</td>\n",
       "      <td>2.14</td>\n",
       "    </tr>\n",
       "    <tr>\n",
       "      <th>0</th>\n",
       "      <td>yr</td>\n",
       "      <td>2.05</td>\n",
       "    </tr>\n",
       "    <tr>\n",
       "      <th>12</th>\n",
       "      <td>Nov</td>\n",
       "      <td>1.84</td>\n",
       "    </tr>\n",
       "    <tr>\n",
       "      <th>8</th>\n",
       "      <td>Dec</td>\n",
       "      <td>1.64</td>\n",
       "    </tr>\n",
       "    <tr>\n",
       "      <th>7</th>\n",
       "      <td>Mist</td>\n",
       "      <td>1.55</td>\n",
       "    </tr>\n",
       "    <tr>\n",
       "      <th>11</th>\n",
       "      <td>Jul</td>\n",
       "      <td>1.37</td>\n",
       "    </tr>\n",
       "    <tr>\n",
       "      <th>13</th>\n",
       "      <td>Sep</td>\n",
       "      <td>1.26</td>\n",
       "    </tr>\n",
       "    <tr>\n",
       "      <th>6</th>\n",
       "      <td>Light_Snow</td>\n",
       "      <td>1.11</td>\n",
       "    </tr>\n",
       "    <tr>\n",
       "      <th>1</th>\n",
       "      <td>holiday</td>\n",
       "      <td>1.06</td>\n",
       "    </tr>\n",
       "  </tbody>\n",
       "</table>\n",
       "</div>"
      ],
      "text/plain": [
       "      Features   VIF\n",
       "2         temp  4.97\n",
       "3    windspeed  4.77\n",
       "4       Spring  4.20\n",
       "5       Winter  2.61\n",
       "10         Jan  2.29\n",
       "9          Feb  2.14\n",
       "0           yr  2.05\n",
       "12         Nov  1.84\n",
       "8          Dec  1.64\n",
       "7         Mist  1.55\n",
       "11         Jul  1.37\n",
       "13         Sep  1.26\n",
       "6   Light_Snow  1.11\n",
       "1      holiday  1.06"
      ]
     },
     "execution_count": 67,
     "metadata": {},
     "output_type": "execute_result"
    }
   ],
   "source": [
    "vif = get_vif(df_train_X_rfe)\n",
    "vif"
   ]
  },
  {
   "cell_type": "markdown",
   "id": "8e94f875-f98f-4146-9b23-68dbaf1512e1",
   "metadata": {},
   "source": [
    "Since, all the p-values are < 0.05. Therefore, we need to remove values as per VIF. Since, 'hum' has very high VIF. Therefore, we need to remove that first"
   ]
  },
  {
   "cell_type": "markdown",
   "id": "e4ab0314-d9a1-4487-9c71-c231a22928f3",
   "metadata": {},
   "source": [
    "#### Dropping 'hum' variables with high VIF"
   ]
  },
  {
   "cell_type": "code",
   "execution_count": 53,
   "id": "5368df25-42c1-499a-a8ba-d75195002cb8",
   "metadata": {},
   "outputs": [
    {
     "data": {
      "text/html": [
       "<div>\n",
       "<style scoped>\n",
       "    .dataframe tbody tr th:only-of-type {\n",
       "        vertical-align: middle;\n",
       "    }\n",
       "\n",
       "    .dataframe tbody tr th {\n",
       "        vertical-align: top;\n",
       "    }\n",
       "\n",
       "    .dataframe thead th {\n",
       "        text-align: right;\n",
       "    }\n",
       "</style>\n",
       "<table border=\"1\" class=\"dataframe\">\n",
       "  <thead>\n",
       "    <tr style=\"text-align: right;\">\n",
       "      <th></th>\n",
       "      <th>yr</th>\n",
       "      <th>holiday</th>\n",
       "      <th>temp</th>\n",
       "      <th>windspeed</th>\n",
       "      <th>Spring</th>\n",
       "      <th>Winter</th>\n",
       "      <th>Light_Snow</th>\n",
       "      <th>Mist</th>\n",
       "      <th>Dec</th>\n",
       "      <th>Feb</th>\n",
       "      <th>Jan</th>\n",
       "      <th>Jul</th>\n",
       "      <th>Nov</th>\n",
       "      <th>Sep</th>\n",
       "    </tr>\n",
       "  </thead>\n",
       "  <tbody>\n",
       "    <tr>\n",
       "      <th>72</th>\n",
       "      <td>0</td>\n",
       "      <td>0</td>\n",
       "      <td>0.298094</td>\n",
       "      <td>0.236118</td>\n",
       "      <td>1</td>\n",
       "      <td>0</td>\n",
       "      <td>0</td>\n",
       "      <td>0</td>\n",
       "      <td>0</td>\n",
       "      <td>0</td>\n",
       "      <td>0</td>\n",
       "      <td>0</td>\n",
       "      <td>0</td>\n",
       "      <td>0</td>\n",
       "    </tr>\n",
       "    <tr>\n",
       "      <th>510</th>\n",
       "      <td>1</td>\n",
       "      <td>0</td>\n",
       "      <td>0.778657</td>\n",
       "      <td>0.364071</td>\n",
       "      <td>0</td>\n",
       "      <td>0</td>\n",
       "      <td>0</td>\n",
       "      <td>0</td>\n",
       "      <td>0</td>\n",
       "      <td>0</td>\n",
       "      <td>0</td>\n",
       "      <td>0</td>\n",
       "      <td>0</td>\n",
       "      <td>0</td>\n",
       "    </tr>\n",
       "    <tr>\n",
       "      <th>700</th>\n",
       "      <td>1</td>\n",
       "      <td>0</td>\n",
       "      <td>0.327249</td>\n",
       "      <td>0.210252</td>\n",
       "      <td>0</td>\n",
       "      <td>1</td>\n",
       "      <td>0</td>\n",
       "      <td>1</td>\n",
       "      <td>1</td>\n",
       "      <td>0</td>\n",
       "      <td>0</td>\n",
       "      <td>0</td>\n",
       "      <td>0</td>\n",
       "      <td>0</td>\n",
       "    </tr>\n",
       "    <tr>\n",
       "      <th>264</th>\n",
       "      <td>0</td>\n",
       "      <td>0</td>\n",
       "      <td>0.694699</td>\n",
       "      <td>0.217975</td>\n",
       "      <td>0</td>\n",
       "      <td>0</td>\n",
       "      <td>0</td>\n",
       "      <td>1</td>\n",
       "      <td>0</td>\n",
       "      <td>0</td>\n",
       "      <td>0</td>\n",
       "      <td>0</td>\n",
       "      <td>0</td>\n",
       "      <td>1</td>\n",
       "    </tr>\n",
       "    <tr>\n",
       "      <th>577</th>\n",
       "      <td>1</td>\n",
       "      <td>0</td>\n",
       "      <td>0.811368</td>\n",
       "      <td>0.244886</td>\n",
       "      <td>0</td>\n",
       "      <td>0</td>\n",
       "      <td>0</td>\n",
       "      <td>0</td>\n",
       "      <td>0</td>\n",
       "      <td>0</td>\n",
       "      <td>0</td>\n",
       "      <td>0</td>\n",
       "      <td>0</td>\n",
       "      <td>0</td>\n",
       "    </tr>\n",
       "  </tbody>\n",
       "</table>\n",
       "</div>"
      ],
      "text/plain": [
       "     yr  holiday      temp  windspeed  Spring  Winter  Light_Snow  Mist  Dec  \\\n",
       "72    0        0  0.298094   0.236118       1       0           0     0    0   \n",
       "510   1        0  0.778657   0.364071       0       0           0     0    0   \n",
       "700   1        0  0.327249   0.210252       0       1           0     1    1   \n",
       "264   0        0  0.694699   0.217975       0       0           0     1    0   \n",
       "577   1        0  0.811368   0.244886       0       0           0     0    0   \n",
       "\n",
       "     Feb  Jan  Jul  Nov  Sep  \n",
       "72     0    0    0    0    0  \n",
       "510    0    0    0    0    0  \n",
       "700    0    0    0    0    0  \n",
       "264    0    0    0    0    1  \n",
       "577    0    0    0    0    0  "
      ]
     },
     "execution_count": 53,
     "metadata": {},
     "output_type": "execute_result"
    }
   ],
   "source": [
    "df_train_X_rfe.drop(['hum'], axis=1, inplace=True)\n",
    "df_train_X_rfe.head()"
   ]
  },
  {
   "cell_type": "markdown",
   "id": "ea540ba3-8cb1-4e1a-a173-dc11ed5759ed",
   "metadata": {},
   "source": [
    "### 2nd Model"
   ]
  },
  {
   "cell_type": "code",
   "execution_count": 54,
   "id": "c5b0fe77-5cfc-4261-ae4d-c0fe4477fcf3",
   "metadata": {},
   "outputs": [
    {
     "data": {
      "text/plain": [
       "(510, 14)"
      ]
     },
     "execution_count": 54,
     "metadata": {},
     "output_type": "execute_result"
    }
   ],
   "source": [
    "df_train_X_rfe.shape"
   ]
  },
  {
   "cell_type": "markdown",
   "id": "277f7c2c-ba52-4d22-8350-702b0b59e2ac",
   "metadata": {},
   "source": [
    "#### Creating Model"
   ]
  },
  {
   "cell_type": "code",
   "execution_count": 68,
   "id": "8a2a3244-892c-418f-847a-759bf81f8e35",
   "metadata": {},
   "outputs": [
    {
     "data": {
      "text/html": [
       "<table class=\"simpletable\">\n",
       "<caption>OLS Regression Results</caption>\n",
       "<tr>\n",
       "  <th>Dep. Variable:</th>           <td>cnt</td>       <th>  R-squared:         </th> <td>   0.840</td> \n",
       "</tr>\n",
       "<tr>\n",
       "  <th>Model:</th>                   <td>OLS</td>       <th>  Adj. R-squared:    </th> <td>   0.835</td> \n",
       "</tr>\n",
       "<tr>\n",
       "  <th>Method:</th>             <td>Least Squares</td>  <th>  F-statistic:       </th> <td>   185.4</td> \n",
       "</tr>\n",
       "<tr>\n",
       "  <th>Date:</th>             <td>Fri, 02 Jun 2023</td> <th>  Prob (F-statistic):</th> <td>1.59e-186</td>\n",
       "</tr>\n",
       "<tr>\n",
       "  <th>Time:</th>                 <td>15:33:37</td>     <th>  Log-Likelihood:    </th> <td> -4121.3</td> \n",
       "</tr>\n",
       "<tr>\n",
       "  <th>No. Observations:</th>      <td>   510</td>      <th>  AIC:               </th> <td>   8273.</td> \n",
       "</tr>\n",
       "<tr>\n",
       "  <th>Df Residuals:</th>          <td>   495</td>      <th>  BIC:               </th> <td>   8336.</td> \n",
       "</tr>\n",
       "<tr>\n",
       "  <th>Df Model:</th>              <td>    14</td>      <th>                     </th>     <td> </td>    \n",
       "</tr>\n",
       "<tr>\n",
       "  <th>Covariance Type:</th>      <td>nonrobust</td>    <th>                     </th>     <td> </td>    \n",
       "</tr>\n",
       "</table>\n",
       "<table class=\"simpletable\">\n",
       "<tr>\n",
       "       <td></td>         <th>coef</th>     <th>std err</th>      <th>t</th>      <th>P>|t|</th>  <th>[0.025</th>    <th>0.975]</th>  \n",
       "</tr>\n",
       "<tr>\n",
       "  <th>const</th>      <td> 2912.8716</td> <td>  211.153</td> <td>   13.795</td> <td> 0.000</td> <td> 2498.005</td> <td> 3327.738</td>\n",
       "</tr>\n",
       "<tr>\n",
       "  <th>yr</th>         <td> 2123.5137</td> <td>   71.104</td> <td>   29.865</td> <td> 0.000</td> <td> 1983.812</td> <td> 2263.216</td>\n",
       "</tr>\n",
       "<tr>\n",
       "  <th>holiday</th>    <td> -670.2615</td> <td>  197.904</td> <td>   -3.387</td> <td> 0.001</td> <td>-1059.097</td> <td> -281.426</td>\n",
       "</tr>\n",
       "<tr>\n",
       "  <th>temp</th>       <td> 2969.5969</td> <td>  273.745</td> <td>   10.848</td> <td> 0.000</td> <td> 2431.751</td> <td> 3507.443</td>\n",
       "</tr>\n",
       "<tr>\n",
       "  <th>windspeed</th>  <td>-1149.2326</td> <td>  226.740</td> <td>   -5.068</td> <td> 0.000</td> <td>-1594.725</td> <td> -703.741</td>\n",
       "</tr>\n",
       "<tr>\n",
       "  <th>Spring</th>     <td> -857.1183</td> <td>  158.350</td> <td>   -5.413</td> <td> 0.000</td> <td>-1168.239</td> <td> -545.997</td>\n",
       "</tr>\n",
       "<tr>\n",
       "  <th>Winter</th>     <td>  664.4985</td> <td>  119.042</td> <td>    5.582</td> <td> 0.000</td> <td>  430.608</td> <td>  898.389</td>\n",
       "</tr>\n",
       "<tr>\n",
       "  <th>Light_Snow</th> <td>-2252.2484</td> <td>  202.892</td> <td>  -11.101</td> <td> 0.000</td> <td>-2650.883</td> <td>-1853.613</td>\n",
       "</tr>\n",
       "<tr>\n",
       "  <th>Mist</th>       <td> -716.8387</td> <td>   76.225</td> <td>   -9.404</td> <td> 0.000</td> <td> -866.603</td> <td> -567.074</td>\n",
       "</tr>\n",
       "<tr>\n",
       "  <th>Dec</th>        <td> -694.5907</td> <td>  153.905</td> <td>   -4.513</td> <td> 0.000</td> <td> -996.979</td> <td> -392.202</td>\n",
       "</tr>\n",
       "<tr>\n",
       "  <th>Feb</th>        <td> -491.7749</td> <td>  188.465</td> <td>   -2.609</td> <td> 0.009</td> <td> -862.065</td> <td> -121.485</td>\n",
       "</tr>\n",
       "<tr>\n",
       "  <th>Jan</th>        <td> -747.2930</td> <td>  188.720</td> <td>   -3.960</td> <td> 0.000</td> <td>-1118.083</td> <td> -376.503</td>\n",
       "</tr>\n",
       "<tr>\n",
       "  <th>Jul</th>        <td> -452.9931</td> <td>  159.505</td> <td>   -2.840</td> <td> 0.005</td> <td> -766.383</td> <td> -139.603</td>\n",
       "</tr>\n",
       "<tr>\n",
       "  <th>Nov</th>        <td> -731.7705</td> <td>  163.194</td> <td>   -4.484</td> <td> 0.000</td> <td>-1052.409</td> <td> -411.132</td>\n",
       "</tr>\n",
       "<tr>\n",
       "  <th>Sep</th>        <td>  351.3877</td> <td>  130.025</td> <td>    2.702</td> <td> 0.007</td> <td>   95.919</td> <td>  606.857</td>\n",
       "</tr>\n",
       "</table>\n",
       "<table class=\"simpletable\">\n",
       "<tr>\n",
       "  <th>Omnibus:</th>       <td>83.886</td> <th>  Durbin-Watson:     </th> <td>   2.075</td>\n",
       "</tr>\n",
       "<tr>\n",
       "  <th>Prob(Omnibus):</th> <td> 0.000</td> <th>  Jarque-Bera (JB):  </th> <td> 250.532</td>\n",
       "</tr>\n",
       "<tr>\n",
       "  <th>Skew:</th>          <td>-0.775</td> <th>  Prob(JB):          </th> <td>3.96e-55</td>\n",
       "</tr>\n",
       "<tr>\n",
       "  <th>Kurtosis:</th>      <td> 6.064</td> <th>  Cond. No.          </th> <td>    14.8</td>\n",
       "</tr>\n",
       "</table><br/><br/>Notes:<br/>[1] Standard Errors assume that the covariance matrix of the errors is correctly specified."
      ],
      "text/plain": [
       "<class 'statsmodels.iolib.summary.Summary'>\n",
       "\"\"\"\n",
       "                            OLS Regression Results                            \n",
       "==============================================================================\n",
       "Dep. Variable:                    cnt   R-squared:                       0.840\n",
       "Model:                            OLS   Adj. R-squared:                  0.835\n",
       "Method:                 Least Squares   F-statistic:                     185.4\n",
       "Date:                Fri, 02 Jun 2023   Prob (F-statistic):          1.59e-186\n",
       "Time:                        15:33:37   Log-Likelihood:                -4121.3\n",
       "No. Observations:                 510   AIC:                             8273.\n",
       "Df Residuals:                     495   BIC:                             8336.\n",
       "Df Model:                          14                                         \n",
       "Covariance Type:            nonrobust                                         \n",
       "==============================================================================\n",
       "                 coef    std err          t      P>|t|      [0.025      0.975]\n",
       "------------------------------------------------------------------------------\n",
       "const       2912.8716    211.153     13.795      0.000    2498.005    3327.738\n",
       "yr          2123.5137     71.104     29.865      0.000    1983.812    2263.216\n",
       "holiday     -670.2615    197.904     -3.387      0.001   -1059.097    -281.426\n",
       "temp        2969.5969    273.745     10.848      0.000    2431.751    3507.443\n",
       "windspeed  -1149.2326    226.740     -5.068      0.000   -1594.725    -703.741\n",
       "Spring      -857.1183    158.350     -5.413      0.000   -1168.239    -545.997\n",
       "Winter       664.4985    119.042      5.582      0.000     430.608     898.389\n",
       "Light_Snow -2252.2484    202.892    -11.101      0.000   -2650.883   -1853.613\n",
       "Mist        -716.8387     76.225     -9.404      0.000    -866.603    -567.074\n",
       "Dec         -694.5907    153.905     -4.513      0.000    -996.979    -392.202\n",
       "Feb         -491.7749    188.465     -2.609      0.009    -862.065    -121.485\n",
       "Jan         -747.2930    188.720     -3.960      0.000   -1118.083    -376.503\n",
       "Jul         -452.9931    159.505     -2.840      0.005    -766.383    -139.603\n",
       "Nov         -731.7705    163.194     -4.484      0.000   -1052.409    -411.132\n",
       "Sep          351.3877    130.025      2.702      0.007      95.919     606.857\n",
       "==============================================================================\n",
       "Omnibus:                       83.886   Durbin-Watson:                   2.075\n",
       "Prob(Omnibus):                  0.000   Jarque-Bera (JB):              250.532\n",
       "Skew:                          -0.775   Prob(JB):                     3.96e-55\n",
       "Kurtosis:                       6.064   Cond. No.                         14.8\n",
       "==============================================================================\n",
       "\n",
       "Notes:\n",
       "[1] Standard Errors assume that the covariance matrix of the errors is correctly specified.\n",
       "\"\"\""
      ]
     },
     "execution_count": 68,
     "metadata": {},
     "output_type": "execute_result"
    }
   ],
   "source": [
    "lm_2, X_data_train_sm_2 = build_model(df_train_X_rfe, df_train_y)\n",
    "lm_2.summary()"
   ]
  },
  {
   "cell_type": "markdown",
   "id": "45002b17-6eb9-49fc-ae99-c9bb22b69ba8",
   "metadata": {
    "tags": []
   },
   "source": [
    "#### Calculating VIF"
   ]
  },
  {
   "cell_type": "code",
   "execution_count": 69,
   "id": "133fd4f6-7004-4051-9fc6-dd7a1fae255c",
   "metadata": {},
   "outputs": [
    {
     "data": {
      "text/html": [
       "<div>\n",
       "<style scoped>\n",
       "    .dataframe tbody tr th:only-of-type {\n",
       "        vertical-align: middle;\n",
       "    }\n",
       "\n",
       "    .dataframe tbody tr th {\n",
       "        vertical-align: top;\n",
       "    }\n",
       "\n",
       "    .dataframe thead th {\n",
       "        text-align: right;\n",
       "    }\n",
       "</style>\n",
       "<table border=\"1\" class=\"dataframe\">\n",
       "  <thead>\n",
       "    <tr style=\"text-align: right;\">\n",
       "      <th></th>\n",
       "      <th>Features</th>\n",
       "      <th>VIF</th>\n",
       "    </tr>\n",
       "  </thead>\n",
       "  <tbody>\n",
       "    <tr>\n",
       "      <th>2</th>\n",
       "      <td>temp</td>\n",
       "      <td>4.97</td>\n",
       "    </tr>\n",
       "    <tr>\n",
       "      <th>3</th>\n",
       "      <td>windspeed</td>\n",
       "      <td>4.77</td>\n",
       "    </tr>\n",
       "    <tr>\n",
       "      <th>4</th>\n",
       "      <td>Spring</td>\n",
       "      <td>4.20</td>\n",
       "    </tr>\n",
       "    <tr>\n",
       "      <th>5</th>\n",
       "      <td>Winter</td>\n",
       "      <td>2.61</td>\n",
       "    </tr>\n",
       "    <tr>\n",
       "      <th>10</th>\n",
       "      <td>Jan</td>\n",
       "      <td>2.29</td>\n",
       "    </tr>\n",
       "    <tr>\n",
       "      <th>9</th>\n",
       "      <td>Feb</td>\n",
       "      <td>2.14</td>\n",
       "    </tr>\n",
       "    <tr>\n",
       "      <th>0</th>\n",
       "      <td>yr</td>\n",
       "      <td>2.05</td>\n",
       "    </tr>\n",
       "    <tr>\n",
       "      <th>12</th>\n",
       "      <td>Nov</td>\n",
       "      <td>1.84</td>\n",
       "    </tr>\n",
       "    <tr>\n",
       "      <th>8</th>\n",
       "      <td>Dec</td>\n",
       "      <td>1.64</td>\n",
       "    </tr>\n",
       "    <tr>\n",
       "      <th>7</th>\n",
       "      <td>Mist</td>\n",
       "      <td>1.55</td>\n",
       "    </tr>\n",
       "    <tr>\n",
       "      <th>11</th>\n",
       "      <td>Jul</td>\n",
       "      <td>1.37</td>\n",
       "    </tr>\n",
       "    <tr>\n",
       "      <th>13</th>\n",
       "      <td>Sep</td>\n",
       "      <td>1.26</td>\n",
       "    </tr>\n",
       "    <tr>\n",
       "      <th>6</th>\n",
       "      <td>Light_Snow</td>\n",
       "      <td>1.11</td>\n",
       "    </tr>\n",
       "    <tr>\n",
       "      <th>1</th>\n",
       "      <td>holiday</td>\n",
       "      <td>1.06</td>\n",
       "    </tr>\n",
       "  </tbody>\n",
       "</table>\n",
       "</div>"
      ],
      "text/plain": [
       "      Features   VIF\n",
       "2         temp  4.97\n",
       "3    windspeed  4.77\n",
       "4       Spring  4.20\n",
       "5       Winter  2.61\n",
       "10         Jan  2.29\n",
       "9          Feb  2.14\n",
       "0           yr  2.05\n",
       "12         Nov  1.84\n",
       "8          Dec  1.64\n",
       "7         Mist  1.55\n",
       "11         Jul  1.37\n",
       "13         Sep  1.26\n",
       "6   Light_Snow  1.11\n",
       "1      holiday  1.06"
      ]
     },
     "execution_count": 69,
     "metadata": {},
     "output_type": "execute_result"
    }
   ],
   "source": [
    "vif = get_vif(df_train_X_rfe)\n",
    "vif"
   ]
  },
  {
   "cell_type": "markdown",
   "id": "eb031cf3-ff64-4674-b101-0388f264bf99",
   "metadata": {},
   "source": [
    "Since, all the variables have p-value w/n the range i.e. < 0.05 and have VIF value < 5. Therefore, this is our final model."
   ]
  },
  {
   "cell_type": "code",
   "execution_count": null,
   "id": "c2b44215-f77b-4850-9cf8-99b76f498490",
   "metadata": {},
   "outputs": [
    {
     "data": {
      "text/plain": [
       "(510, 15)"
      ]
     },
     "execution_count": 71,
     "metadata": {},
     "output_type": "execute_result"
    }
   ],
   "source": [
    "X_data_train_sm_2.shape"
   ]
  },
  {
   "cell_type": "code",
   "execution_count": 72,
   "id": "c32e670a-1d63-48a4-80ac-10df115be504",
   "metadata": {},
   "outputs": [
    {
     "data": {
      "text/html": [
       "<div>\n",
       "<style scoped>\n",
       "    .dataframe tbody tr th:only-of-type {\n",
       "        vertical-align: middle;\n",
       "    }\n",
       "\n",
       "    .dataframe tbody tr th {\n",
       "        vertical-align: top;\n",
       "    }\n",
       "\n",
       "    .dataframe thead th {\n",
       "        text-align: right;\n",
       "    }\n",
       "</style>\n",
       "<table border=\"1\" class=\"dataframe\">\n",
       "  <thead>\n",
       "    <tr style=\"text-align: right;\">\n",
       "      <th></th>\n",
       "      <th>const</th>\n",
       "      <th>yr</th>\n",
       "      <th>holiday</th>\n",
       "      <th>temp</th>\n",
       "      <th>windspeed</th>\n",
       "      <th>Spring</th>\n",
       "      <th>Winter</th>\n",
       "      <th>Light_Snow</th>\n",
       "      <th>Mist</th>\n",
       "      <th>Dec</th>\n",
       "      <th>Feb</th>\n",
       "      <th>Jan</th>\n",
       "      <th>Jul</th>\n",
       "      <th>Nov</th>\n",
       "      <th>Sep</th>\n",
       "    </tr>\n",
       "  </thead>\n",
       "  <tbody>\n",
       "    <tr>\n",
       "      <th>72</th>\n",
       "      <td>1.0</td>\n",
       "      <td>0</td>\n",
       "      <td>0</td>\n",
       "      <td>0.298094</td>\n",
       "      <td>0.236118</td>\n",
       "      <td>1</td>\n",
       "      <td>0</td>\n",
       "      <td>0</td>\n",
       "      <td>0</td>\n",
       "      <td>0</td>\n",
       "      <td>0</td>\n",
       "      <td>0</td>\n",
       "      <td>0</td>\n",
       "      <td>0</td>\n",
       "      <td>0</td>\n",
       "    </tr>\n",
       "    <tr>\n",
       "      <th>510</th>\n",
       "      <td>1.0</td>\n",
       "      <td>1</td>\n",
       "      <td>0</td>\n",
       "      <td>0.778657</td>\n",
       "      <td>0.364071</td>\n",
       "      <td>0</td>\n",
       "      <td>0</td>\n",
       "      <td>0</td>\n",
       "      <td>0</td>\n",
       "      <td>0</td>\n",
       "      <td>0</td>\n",
       "      <td>0</td>\n",
       "      <td>0</td>\n",
       "      <td>0</td>\n",
       "      <td>0</td>\n",
       "    </tr>\n",
       "    <tr>\n",
       "      <th>700</th>\n",
       "      <td>1.0</td>\n",
       "      <td>1</td>\n",
       "      <td>0</td>\n",
       "      <td>0.327249</td>\n",
       "      <td>0.210252</td>\n",
       "      <td>0</td>\n",
       "      <td>1</td>\n",
       "      <td>0</td>\n",
       "      <td>1</td>\n",
       "      <td>1</td>\n",
       "      <td>0</td>\n",
       "      <td>0</td>\n",
       "      <td>0</td>\n",
       "      <td>0</td>\n",
       "      <td>0</td>\n",
       "    </tr>\n",
       "    <tr>\n",
       "      <th>264</th>\n",
       "      <td>1.0</td>\n",
       "      <td>0</td>\n",
       "      <td>0</td>\n",
       "      <td>0.694699</td>\n",
       "      <td>0.217975</td>\n",
       "      <td>0</td>\n",
       "      <td>0</td>\n",
       "      <td>0</td>\n",
       "      <td>1</td>\n",
       "      <td>0</td>\n",
       "      <td>0</td>\n",
       "      <td>0</td>\n",
       "      <td>0</td>\n",
       "      <td>0</td>\n",
       "      <td>1</td>\n",
       "    </tr>\n",
       "    <tr>\n",
       "      <th>577</th>\n",
       "      <td>1.0</td>\n",
       "      <td>1</td>\n",
       "      <td>0</td>\n",
       "      <td>0.811368</td>\n",
       "      <td>0.244886</td>\n",
       "      <td>0</td>\n",
       "      <td>0</td>\n",
       "      <td>0</td>\n",
       "      <td>0</td>\n",
       "      <td>0</td>\n",
       "      <td>0</td>\n",
       "      <td>0</td>\n",
       "      <td>0</td>\n",
       "      <td>0</td>\n",
       "      <td>0</td>\n",
       "    </tr>\n",
       "  </tbody>\n",
       "</table>\n",
       "</div>"
      ],
      "text/plain": [
       "     const  yr  holiday      temp  windspeed  Spring  Winter  Light_Snow  \\\n",
       "72     1.0   0        0  0.298094   0.236118       1       0           0   \n",
       "510    1.0   1        0  0.778657   0.364071       0       0           0   \n",
       "700    1.0   1        0  0.327249   0.210252       0       1           0   \n",
       "264    1.0   0        0  0.694699   0.217975       0       0           0   \n",
       "577    1.0   1        0  0.811368   0.244886       0       0           0   \n",
       "\n",
       "     Mist  Dec  Feb  Jan  Jul  Nov  Sep  \n",
       "72      0    0    0    0    0    0    0  \n",
       "510     0    0    0    0    0    0    0  \n",
       "700     1    1    0    0    0    0    0  \n",
       "264     1    0    0    0    0    0    1  \n",
       "577     0    0    0    0    0    0    0  "
      ]
     },
     "execution_count": 72,
     "metadata": {},
     "output_type": "execute_result"
    }
   ],
   "source": [
    "X_data_train_sm_2.head()"
   ]
  },
  {
   "cell_type": "markdown",
   "id": "d462bae1-eb40-483b-805f-e256ba7cea06",
   "metadata": {
    "tags": []
   },
   "source": [
    "# Model Interpretation"
   ]
  },
  {
   "cell_type": "markdown",
   "id": "a69e5357-0b9c-4c8c-b9a1-e33007292e0b",
   "metadata": {
    "tags": []
   },
   "source": [
    "## Coefficient Interpretation"
   ]
  },
  {
   "cell_type": "code",
   "execution_count": 114,
   "id": "e6d5339c-a49e-4c75-bf99-95b1937ac522",
   "metadata": {},
   "outputs": [
    {
     "data": {
      "text/plain": [
       "temp          2969.60\n",
       "const         2912.87\n",
       "yr            2123.51\n",
       "Winter         664.50\n",
       "Sep            351.39\n",
       "Jul           -452.99\n",
       "Feb           -491.77\n",
       "holiday       -670.26\n",
       "Dec           -694.59\n",
       "Mist          -716.84\n",
       "Nov           -731.77\n",
       "Jan           -747.29\n",
       "Spring        -857.12\n",
       "windspeed    -1149.23\n",
       "Light_Snow   -2252.25\n",
       "dtype: float64"
      ]
     },
     "execution_count": 114,
     "metadata": {},
     "output_type": "execute_result"
    }
   ],
   "source": [
    "round(lm_2.params,2).sort_values(ascending=False)"
   ]
  },
  {
   "cell_type": "markdown",
   "id": "5210b432-6412-440c-98d9-d452e973d824",
   "metadata": {},
   "source": [
    "* These coefficent can be divided into two groups:\n",
    "    * Positively impact cnt: const, yr, temp, Winter\n",
    "    * Negatively impact cnt: holiday, windspeed, Spring, Light_Snow, Mist, Dec, Feb, Jan, Jul, Nov & Sep    \n",
    "    \n",
    "* Positve coefficent 'll increase the 'cnt' (no. of bike bookings) whereas Negative coefficient 'll decrease the 'cnt'"
   ]
  },
  {
   "cell_type": "markdown",
   "id": "60501318-b756-4be0-8301-8ee631a238c7",
   "metadata": {},
   "source": [
    "## F-statistics"
   ]
  },
  {
   "cell_type": "markdown",
   "id": "2414a632-7834-45ad-a122-b7bfe7ecb94c",
   "metadata": {},
   "source": [
    "* The value of F-statistic & Prob (F-statistic) signifies the overall fit of the model. Higher it is, better is our model.\n",
    "* Since, p-value of all the coefficients are < 0.00 & the value of F-statistic is also quite descent. Therefore, we can say that the overall fit of the model is good."
   ]
  },
  {
   "cell_type": "markdown",
   "id": "bb28bdeb-9c01-4271-8bf1-777a62e8242e",
   "metadata": {
    "tags": []
   },
   "source": [
    "# Model Assumptions Verification\n",
    "\n",
    "To analyse whether this model satisfies all the assumptions of MLR"
   ]
  },
  {
   "cell_type": "markdown",
   "id": "7410c60a-c7f3-4184-8700-291321bee79f",
   "metadata": {},
   "source": [
    "## Linear Relationship b/w X & Y"
   ]
  },
  {
   "cell_type": "code",
   "execution_count": 63,
   "id": "75a6a04e-3918-490c-b726-65c1356dc52f",
   "metadata": {},
   "outputs": [
    {
     "data": {
      "text/plain": [
       "<Figure size 1200x800 with 0 Axes>"
      ]
     },
     "metadata": {},
     "output_type": "display_data"
    },
    {
     "data": {
      "image/png": "[encoded data removed]",
      "text/plain": [
       "<Figure size 750x750 with 9 Axes>"
      ]
     },
     "metadata": {},
     "output_type": "display_data"
    }
   ],
   "source": [
    "# Heatmap to understand colinearity b/w variables\n",
    "plt.figure(figsize=(12,8))\n",
    "\n",
    "numeric_variables = ['temp','windspeed']\n",
    "numeric_variables_df_X = df_train_X_rfe[numeric_variables]\n",
    "numeric_variables_df = pd.concat([numeric_variables_df_X, df_train_y], axis=1)\n",
    "\n",
    "# create a pair plot\n",
    "pair_plot = sns.PairGrid(numeric_variables_df)\n",
    "pair_plot.map_lower(sns.scatterplot)\n",
    "\n",
    "# show only the upper triangle\n",
    "pair_plot = pair_plot.map_lower(sns.scatterplot).set(xticks=[], yticks=[])\n",
    "\n",
    "sns.despine()\n",
    "plt.show()"
   ]
  },
  {
   "cell_type": "markdown",
   "id": "4f1bce57-904b-4049-b6fe-684031ae0c9e",
   "metadata": {},
   "source": [
    "We can observe that 'cnt' has good linear relationship with 'temp' & weak linear relationship with 'windspeed'."
   ]
  },
  {
   "cell_type": "markdown",
   "id": "75a66d7c-e100-4101-a04d-d095c51653bf",
   "metadata": {},
   "source": [
    "## Error Terms Normally Distributed"
   ]
  },
  {
   "cell_type": "code",
   "execution_count": 74,
   "id": "d8b77767-f09b-44e6-9bcb-acaf8c16ea41",
   "metadata": {},
   "outputs": [
    {
     "data": {
      "text/plain": [
       "(510,)"
      ]
     },
     "execution_count": 74,
     "metadata": {},
     "output_type": "execute_result"
    }
   ],
   "source": [
    "# Predicting 'y-value' of training data (with constant)\n",
    "df_train_y_pred = lm_2.predict(X_data_train_sm_2)\n",
    "df_train_y_pred.shape"
   ]
  },
  {
   "cell_type": "code",
   "execution_count": 75,
   "id": "544d8b58-5363-4673-af4f-9a398dee72e2",
   "metadata": {},
   "outputs": [
    {
     "data": {
      "image/png": "[encoded data removed]",
      "text/plain": [
       "<Figure size 640x480 with 1 Axes>"
      ]
     },
     "metadata": {},
     "output_type": "display_data"
    }
   ],
   "source": [
    "# Plot the histogram of the error terms\n",
    "fig = plt.figure()\n",
    "sns.distplot((df_train_y - df_train_y_pred), bins = 20)\n",
    "plt.title('Distribution of Error Terms', fontsize = 16)            \n",
    "plt.xlabel('Errors', fontsize = 12)                         \n",
    "plt.show()"
   ]
  },
  {
   "cell_type": "markdown",
   "id": "cb1c4130-6a91-43b8-b8db-cbe8c0cb3ca7",
   "metadata": {},
   "source": [
    "This indicates that error terms are normally distributed. Therefore, our model is correct and 'll make good predictions."
   ]
  },
  {
   "cell_type": "markdown",
   "id": "2478f7b0-15dc-4106-8e4c-8f066bcf6e56",
   "metadata": {},
   "source": [
    "## Residual Plot\n",
    "\n",
    "This checks for multiple assumptions:\n",
    "1. Error Terms has Constant variance\n",
    "2. There are no outliers\n",
    "3. Error Terms are independent of each other \n",
    "4. No non-linearity in residuals"
   ]
  },
  {
   "cell_type": "code",
   "execution_count": 116,
   "id": "2a861ae8-75fe-4700-aa1d-0cdc1584c946",
   "metadata": {},
   "outputs": [
    {
     "data": {
      "image/png": "[encoded data removed]",
      "text/plain": [
       "<Figure size 640x480 with 1 Axes>"
      ]
     },
     "metadata": {},
     "output_type": "display_data"
    }
   ],
   "source": [
    "# Final\n",
    "\n",
    "error = df_train_y - df_train_y_pred\n",
    "plt.scatter( df_train_y_pred ,error)\n",
    "plt.axhline(y=0, color='r', linestyle='-')\n",
    "plt.xlabel('Predicted Value')\n",
    "plt.ylabel('Error or Residual')\n",
    "plt.title('Residual v/s Predicted Value', color='b', fontsize=16)\n",
    "plt.show()"
   ]
  },
  {
   "cell_type": "markdown",
   "id": "5f327993-6674-4c6d-831c-2449dd9eb567",
   "metadata": {},
   "source": [
    "This indicates that:\n",
    "\n",
    "1. All the residuals are evenly spread & there is no pattern. Therefore, there is \n",
    "    - No non-linearity in residuals\n",
    "    - Error terms are independent of each other\n",
    "    - Error terms has constant variance\n",
    "2. There are no outliers."
   ]
  },
  {
   "cell_type": "markdown",
   "id": "cb4ea490-038a-4c36-8307-15ed39c43ffc",
   "metadata": {},
   "source": [
    "## Multi-collinearity"
   ]
  },
  {
   "cell_type": "code",
   "execution_count": 78,
   "id": "8193025a-01ff-43fb-8f19-bb186f38c517",
   "metadata": {},
   "outputs": [
    {
     "data": {
      "text/html": [
       "<div>\n",
       "<style scoped>\n",
       "    .dataframe tbody tr th:only-of-type {\n",
       "        vertical-align: middle;\n",
       "    }\n",
       "\n",
       "    .dataframe tbody tr th {\n",
       "        vertical-align: top;\n",
       "    }\n",
       "\n",
       "    .dataframe thead th {\n",
       "        text-align: right;\n",
       "    }\n",
       "</style>\n",
       "<table border=\"1\" class=\"dataframe\">\n",
       "  <thead>\n",
       "    <tr style=\"text-align: right;\">\n",
       "      <th></th>\n",
       "      <th>Features</th>\n",
       "      <th>VIF</th>\n",
       "    </tr>\n",
       "  </thead>\n",
       "  <tbody>\n",
       "    <tr>\n",
       "      <th>2</th>\n",
       "      <td>temp</td>\n",
       "      <td>4.97</td>\n",
       "    </tr>\n",
       "    <tr>\n",
       "      <th>3</th>\n",
       "      <td>windspeed</td>\n",
       "      <td>4.77</td>\n",
       "    </tr>\n",
       "    <tr>\n",
       "      <th>4</th>\n",
       "      <td>Spring</td>\n",
       "      <td>4.20</td>\n",
       "    </tr>\n",
       "    <tr>\n",
       "      <th>5</th>\n",
       "      <td>Winter</td>\n",
       "      <td>2.61</td>\n",
       "    </tr>\n",
       "    <tr>\n",
       "      <th>10</th>\n",
       "      <td>Jan</td>\n",
       "      <td>2.29</td>\n",
       "    </tr>\n",
       "    <tr>\n",
       "      <th>9</th>\n",
       "      <td>Feb</td>\n",
       "      <td>2.14</td>\n",
       "    </tr>\n",
       "    <tr>\n",
       "      <th>0</th>\n",
       "      <td>yr</td>\n",
       "      <td>2.05</td>\n",
       "    </tr>\n",
       "    <tr>\n",
       "      <th>12</th>\n",
       "      <td>Nov</td>\n",
       "      <td>1.84</td>\n",
       "    </tr>\n",
       "    <tr>\n",
       "      <th>8</th>\n",
       "      <td>Dec</td>\n",
       "      <td>1.64</td>\n",
       "    </tr>\n",
       "    <tr>\n",
       "      <th>7</th>\n",
       "      <td>Mist</td>\n",
       "      <td>1.55</td>\n",
       "    </tr>\n",
       "    <tr>\n",
       "      <th>11</th>\n",
       "      <td>Jul</td>\n",
       "      <td>1.37</td>\n",
       "    </tr>\n",
       "    <tr>\n",
       "      <th>13</th>\n",
       "      <td>Sep</td>\n",
       "      <td>1.26</td>\n",
       "    </tr>\n",
       "    <tr>\n",
       "      <th>6</th>\n",
       "      <td>Light_Snow</td>\n",
       "      <td>1.11</td>\n",
       "    </tr>\n",
       "    <tr>\n",
       "      <th>1</th>\n",
       "      <td>holiday</td>\n",
       "      <td>1.06</td>\n",
       "    </tr>\n",
       "  </tbody>\n",
       "</table>\n",
       "</div>"
      ],
      "text/plain": [
       "      Features   VIF\n",
       "2         temp  4.97\n",
       "3    windspeed  4.77\n",
       "4       Spring  4.20\n",
       "5       Winter  2.61\n",
       "10         Jan  2.29\n",
       "9          Feb  2.14\n",
       "0           yr  2.05\n",
       "12         Nov  1.84\n",
       "8          Dec  1.64\n",
       "7         Mist  1.55\n",
       "11         Jul  1.37\n",
       "13         Sep  1.26\n",
       "6   Light_Snow  1.11\n",
       "1      holiday  1.06"
      ]
     },
     "execution_count": 78,
     "metadata": {},
     "output_type": "execute_result"
    }
   ],
   "source": [
    "vif = get_vif(df_train_X_rfe)\n",
    "vif"
   ]
  },
  {
   "cell_type": "markdown",
   "id": "9e13bb56-31ca-45c6-85b4-36eaf187e107",
   "metadata": {},
   "source": [
    "SInce, all the VIF values are below 5, therefore, we can confidently say that there is no multi-collinearity."
   ]
  },
  {
   "cell_type": "markdown",
   "id": "0b0c4e25-559f-462b-9fc8-73b902e35320",
   "metadata": {
    "tags": []
   },
   "source": [
    "# Making Predictions"
   ]
  },
  {
   "cell_type": "code",
   "execution_count": 79,
   "id": "bf1d0978-08ba-4cbd-9b94-bc71002e1038",
   "metadata": {},
   "outputs": [
    {
     "data": {
      "text/html": [
       "<div>\n",
       "<style scoped>\n",
       "    .dataframe tbody tr th:only-of-type {\n",
       "        vertical-align: middle;\n",
       "    }\n",
       "\n",
       "    .dataframe tbody tr th {\n",
       "        vertical-align: top;\n",
       "    }\n",
       "\n",
       "    .dataframe thead th {\n",
       "        text-align: right;\n",
       "    }\n",
       "</style>\n",
       "<table border=\"1\" class=\"dataframe\">\n",
       "  <thead>\n",
       "    <tr style=\"text-align: right;\">\n",
       "      <th></th>\n",
       "      <th>yr</th>\n",
       "      <th>holiday</th>\n",
       "      <th>workingday</th>\n",
       "      <th>temp</th>\n",
       "      <th>hum</th>\n",
       "      <th>windspeed</th>\n",
       "      <th>Spring</th>\n",
       "      <th>Summer</th>\n",
       "      <th>Winter</th>\n",
       "      <th>Light_Snow</th>\n",
       "      <th>...</th>\n",
       "      <th>Dec</th>\n",
       "      <th>Feb</th>\n",
       "      <th>Jan</th>\n",
       "      <th>Jul</th>\n",
       "      <th>Jun</th>\n",
       "      <th>Mar</th>\n",
       "      <th>May</th>\n",
       "      <th>Nov</th>\n",
       "      <th>Oct</th>\n",
       "      <th>Sep</th>\n",
       "    </tr>\n",
       "  </thead>\n",
       "  <tbody>\n",
       "    <tr>\n",
       "      <th>566</th>\n",
       "      <td>1</td>\n",
       "      <td>0</td>\n",
       "      <td>0</td>\n",
       "      <td>24.429153</td>\n",
       "      <td>86.5417</td>\n",
       "      <td>14.291100</td>\n",
       "      <td>0</td>\n",
       "      <td>0</td>\n",
       "      <td>0</td>\n",
       "      <td>1</td>\n",
       "      <td>...</td>\n",
       "      <td>0</td>\n",
       "      <td>0</td>\n",
       "      <td>0</td>\n",
       "      <td>1</td>\n",
       "      <td>0</td>\n",
       "      <td>0</td>\n",
       "      <td>0</td>\n",
       "      <td>0</td>\n",
       "      <td>0</td>\n",
       "      <td>0</td>\n",
       "    </tr>\n",
       "    <tr>\n",
       "      <th>374</th>\n",
       "      <td>1</td>\n",
       "      <td>0</td>\n",
       "      <td>1</td>\n",
       "      <td>12.656536</td>\n",
       "      <td>64.6522</td>\n",
       "      <td>12.565984</td>\n",
       "      <td>1</td>\n",
       "      <td>0</td>\n",
       "      <td>0</td>\n",
       "      <td>0</td>\n",
       "      <td>...</td>\n",
       "      <td>0</td>\n",
       "      <td>0</td>\n",
       "      <td>1</td>\n",
       "      <td>0</td>\n",
       "      <td>0</td>\n",
       "      <td>0</td>\n",
       "      <td>0</td>\n",
       "      <td>0</td>\n",
       "      <td>0</td>\n",
       "      <td>0</td>\n",
       "    </tr>\n",
       "    <tr>\n",
       "      <th>181</th>\n",
       "      <td>0</td>\n",
       "      <td>0</td>\n",
       "      <td>1</td>\n",
       "      <td>29.622500</td>\n",
       "      <td>39.6250</td>\n",
       "      <td>6.874736</td>\n",
       "      <td>0</td>\n",
       "      <td>0</td>\n",
       "      <td>0</td>\n",
       "      <td>0</td>\n",
       "      <td>...</td>\n",
       "      <td>0</td>\n",
       "      <td>0</td>\n",
       "      <td>0</td>\n",
       "      <td>1</td>\n",
       "      <td>0</td>\n",
       "      <td>0</td>\n",
       "      <td>0</td>\n",
       "      <td>0</td>\n",
       "      <td>0</td>\n",
       "      <td>0</td>\n",
       "    </tr>\n",
       "    <tr>\n",
       "      <th>529</th>\n",
       "      <td>1</td>\n",
       "      <td>0</td>\n",
       "      <td>1</td>\n",
       "      <td>26.581653</td>\n",
       "      <td>56.9583</td>\n",
       "      <td>17.000111</td>\n",
       "      <td>0</td>\n",
       "      <td>1</td>\n",
       "      <td>0</td>\n",
       "      <td>0</td>\n",
       "      <td>...</td>\n",
       "      <td>0</td>\n",
       "      <td>0</td>\n",
       "      <td>0</td>\n",
       "      <td>0</td>\n",
       "      <td>1</td>\n",
       "      <td>0</td>\n",
       "      <td>0</td>\n",
       "      <td>0</td>\n",
       "      <td>0</td>\n",
       "      <td>0</td>\n",
       "    </tr>\n",
       "    <tr>\n",
       "      <th>233</th>\n",
       "      <td>0</td>\n",
       "      <td>0</td>\n",
       "      <td>1</td>\n",
       "      <td>28.358347</td>\n",
       "      <td>47.0000</td>\n",
       "      <td>18.542250</td>\n",
       "      <td>0</td>\n",
       "      <td>0</td>\n",
       "      <td>0</td>\n",
       "      <td>0</td>\n",
       "      <td>...</td>\n",
       "      <td>0</td>\n",
       "      <td>0</td>\n",
       "      <td>0</td>\n",
       "      <td>0</td>\n",
       "      <td>0</td>\n",
       "      <td>0</td>\n",
       "      <td>0</td>\n",
       "      <td>0</td>\n",
       "      <td>0</td>\n",
       "      <td>0</td>\n",
       "    </tr>\n",
       "  </tbody>\n",
       "</table>\n",
       "<p>5 rows × 28 columns</p>\n",
       "</div>"
      ],
      "text/plain": [
       "     yr  holiday  workingday       temp      hum  windspeed  Spring  Summer  \\\n",
       "566   1        0           0  24.429153  86.5417  14.291100       0       0   \n",
       "374   1        0           1  12.656536  64.6522  12.565984       1       0   \n",
       "181   0        0           1  29.622500  39.6250   6.874736       0       0   \n",
       "529   1        0           1  26.581653  56.9583  17.000111       0       1   \n",
       "233   0        0           1  28.358347  47.0000  18.542250       0       0   \n",
       "\n",
       "     Winter  Light_Snow  ...  Dec  Feb  Jan  Jul  Jun  Mar  May  Nov  Oct  Sep  \n",
       "566       0           1  ...    0    0    0    1    0    0    0    0    0    0  \n",
       "374       0           0  ...    0    0    1    0    0    0    0    0    0    0  \n",
       "181       0           0  ...    0    0    0    1    0    0    0    0    0    0  \n",
       "529       0           0  ...    0    0    0    0    1    0    0    0    0    0  \n",
       "233       0           0  ...    0    0    0    0    0    0    0    0    0    0  \n",
       "\n",
       "[5 rows x 28 columns]"
      ]
     },
     "execution_count": 79,
     "metadata": {},
     "output_type": "execute_result"
    }
   ],
   "source": [
    "df_test_X.head()"
   ]
  },
  {
   "cell_type": "code",
   "execution_count": 80,
   "id": "905bc14e-a6cf-4465-813c-abe69bfdae29",
   "metadata": {},
   "outputs": [
    {
     "data": {
      "text/plain": [
       "(220, 28)"
      ]
     },
     "execution_count": 80,
     "metadata": {},
     "output_type": "execute_result"
    }
   ],
   "source": [
    "df_test_X.shape"
   ]
  },
  {
   "cell_type": "code",
   "execution_count": 81,
   "id": "6dccd39a-e3d2-4063-9d35-eb4866a4bf10",
   "metadata": {},
   "outputs": [
    {
     "data": {
      "text/plain": [
       "566    4459\n",
       "374    3598\n",
       "181    5362\n",
       "529    7363\n",
       "233    4758\n",
       "Name: cnt, dtype: int64"
      ]
     },
     "execution_count": 81,
     "metadata": {},
     "output_type": "execute_result"
    }
   ],
   "source": [
    "df_test_y.head()"
   ]
  },
  {
   "cell_type": "code",
   "execution_count": 82,
   "id": "e27e04db-ac6d-40d1-b3e9-d6173e10c9e3",
   "metadata": {},
   "outputs": [
    {
     "data": {
      "text/plain": [
       "(220,)"
      ]
     },
     "execution_count": 82,
     "metadata": {},
     "output_type": "execute_result"
    }
   ],
   "source": [
    "df_test_y.shape"
   ]
  },
  {
   "cell_type": "markdown",
   "id": "fe1f72f0-8189-43e6-b6df-566917d657e3",
   "metadata": {},
   "source": [
    "## Applying scaling on test data"
   ]
  },
  {
   "cell_type": "markdown",
   "id": "59eb1e69-14ae-4c67-af66-dba0b44df6f4",
   "metadata": {},
   "source": [
    "We are using 'transform' & not 'fit_transform' because we don't want our model to learn anything from the test data rather just use the learned parameters from the training data and apply that on test data for feature scaling"
   ]
  },
  {
   "cell_type": "code",
   "execution_count": 88,
   "id": "d1a89c83-00da-4891-b476-f91a78ff2841",
   "metadata": {},
   "outputs": [
    {
     "data": {
      "text/html": [
       "<div>\n",
       "<style scoped>\n",
       "    .dataframe tbody tr th:only-of-type {\n",
       "        vertical-align: middle;\n",
       "    }\n",
       "\n",
       "    .dataframe tbody tr th {\n",
       "        vertical-align: top;\n",
       "    }\n",
       "\n",
       "    .dataframe thead th {\n",
       "        text-align: right;\n",
       "    }\n",
       "</style>\n",
       "<table border=\"1\" class=\"dataframe\">\n",
       "  <thead>\n",
       "    <tr style=\"text-align: right;\">\n",
       "      <th></th>\n",
       "      <th>yr</th>\n",
       "      <th>holiday</th>\n",
       "      <th>workingday</th>\n",
       "      <th>temp</th>\n",
       "      <th>hum</th>\n",
       "      <th>windspeed</th>\n",
       "      <th>Spring</th>\n",
       "      <th>Summer</th>\n",
       "      <th>Winter</th>\n",
       "      <th>Light_Snow</th>\n",
       "      <th>...</th>\n",
       "      <th>Dec</th>\n",
       "      <th>Feb</th>\n",
       "      <th>Jan</th>\n",
       "      <th>Jul</th>\n",
       "      <th>Jun</th>\n",
       "      <th>Mar</th>\n",
       "      <th>May</th>\n",
       "      <th>Nov</th>\n",
       "      <th>Oct</th>\n",
       "      <th>Sep</th>\n",
       "    </tr>\n",
       "  </thead>\n",
       "  <tbody>\n",
       "    <tr>\n",
       "      <th>566</th>\n",
       "      <td>1</td>\n",
       "      <td>0</td>\n",
       "      <td>0</td>\n",
       "      <td>0.652175</td>\n",
       "      <td>0.863516</td>\n",
       "      <td>0.393568</td>\n",
       "      <td>0</td>\n",
       "      <td>0</td>\n",
       "      <td>0</td>\n",
       "      <td>1</td>\n",
       "      <td>...</td>\n",
       "      <td>0</td>\n",
       "      <td>0</td>\n",
       "      <td>0</td>\n",
       "      <td>1</td>\n",
       "      <td>0</td>\n",
       "      <td>0</td>\n",
       "      <td>0</td>\n",
       "      <td>0</td>\n",
       "      <td>0</td>\n",
       "      <td>0</td>\n",
       "    </tr>\n",
       "    <tr>\n",
       "      <th>374</th>\n",
       "      <td>1</td>\n",
       "      <td>0</td>\n",
       "      <td>1</td>\n",
       "      <td>0.276477</td>\n",
       "      <td>0.584521</td>\n",
       "      <td>0.340487</td>\n",
       "      <td>1</td>\n",
       "      <td>0</td>\n",
       "      <td>0</td>\n",
       "      <td>0</td>\n",
       "      <td>...</td>\n",
       "      <td>0</td>\n",
       "      <td>0</td>\n",
       "      <td>1</td>\n",
       "      <td>0</td>\n",
       "      <td>0</td>\n",
       "      <td>0</td>\n",
       "      <td>0</td>\n",
       "      <td>0</td>\n",
       "      <td>0</td>\n",
       "      <td>0</td>\n",
       "    </tr>\n",
       "    <tr>\n",
       "      <th>181</th>\n",
       "      <td>0</td>\n",
       "      <td>0</td>\n",
       "      <td>1</td>\n",
       "      <td>0.817910</td>\n",
       "      <td>0.265533</td>\n",
       "      <td>0.165370</td>\n",
       "      <td>0</td>\n",
       "      <td>0</td>\n",
       "      <td>0</td>\n",
       "      <td>0</td>\n",
       "      <td>...</td>\n",
       "      <td>0</td>\n",
       "      <td>0</td>\n",
       "      <td>0</td>\n",
       "      <td>1</td>\n",
       "      <td>0</td>\n",
       "      <td>0</td>\n",
       "      <td>0</td>\n",
       "      <td>0</td>\n",
       "      <td>0</td>\n",
       "      <td>0</td>\n",
       "    </tr>\n",
       "    <tr>\n",
       "      <th>529</th>\n",
       "      <td>1</td>\n",
       "      <td>0</td>\n",
       "      <td>1</td>\n",
       "      <td>0.720868</td>\n",
       "      <td>0.486457</td>\n",
       "      <td>0.476922</td>\n",
       "      <td>0</td>\n",
       "      <td>1</td>\n",
       "      <td>0</td>\n",
       "      <td>0</td>\n",
       "      <td>...</td>\n",
       "      <td>0</td>\n",
       "      <td>0</td>\n",
       "      <td>0</td>\n",
       "      <td>0</td>\n",
       "      <td>1</td>\n",
       "      <td>0</td>\n",
       "      <td>0</td>\n",
       "      <td>0</td>\n",
       "      <td>0</td>\n",
       "      <td>0</td>\n",
       "    </tr>\n",
       "    <tr>\n",
       "      <th>233</th>\n",
       "      <td>0</td>\n",
       "      <td>0</td>\n",
       "      <td>1</td>\n",
       "      <td>0.777567</td>\n",
       "      <td>0.359532</td>\n",
       "      <td>0.524373</td>\n",
       "      <td>0</td>\n",
       "      <td>0</td>\n",
       "      <td>0</td>\n",
       "      <td>0</td>\n",
       "      <td>...</td>\n",
       "      <td>0</td>\n",
       "      <td>0</td>\n",
       "      <td>0</td>\n",
       "      <td>0</td>\n",
       "      <td>0</td>\n",
       "      <td>0</td>\n",
       "      <td>0</td>\n",
       "      <td>0</td>\n",
       "      <td>0</td>\n",
       "      <td>0</td>\n",
       "    </tr>\n",
       "  </tbody>\n",
       "</table>\n",
       "<p>5 rows × 28 columns</p>\n",
       "</div>"
      ],
      "text/plain": [
       "     yr  holiday  workingday      temp       hum  windspeed  Spring  Summer  \\\n",
       "566   1        0           0  0.652175  0.863516   0.393568       0       0   \n",
       "374   1        0           1  0.276477  0.584521   0.340487       1       0   \n",
       "181   0        0           1  0.817910  0.265533   0.165370       0       0   \n",
       "529   1        0           1  0.720868  0.486457   0.476922       0       1   \n",
       "233   0        0           1  0.777567  0.359532   0.524373       0       0   \n",
       "\n",
       "     Winter  Light_Snow  ...  Dec  Feb  Jan  Jul  Jun  Mar  May  Nov  Oct  Sep  \n",
       "566       0           1  ...    0    0    0    1    0    0    0    0    0    0  \n",
       "374       0           0  ...    0    0    1    0    0    0    0    0    0    0  \n",
       "181       0           0  ...    0    0    0    1    0    0    0    0    0    0  \n",
       "529       0           0  ...    0    0    0    0    1    0    0    0    0    0  \n",
       "233       0           0  ...    0    0    0    0    0    0    0    0    0    0  \n",
       "\n",
       "[5 rows x 28 columns]"
      ]
     },
     "execution_count": 88,
     "metadata": {},
     "output_type": "execute_result"
    }
   ],
   "source": [
    "features_to_scale = ['temp', 'hum', 'windspeed']\n",
    "df_test_X[features_to_scale] = scaler.transform(df_test_X[features_to_scale])\n",
    "df_test_X.head()"
   ]
  },
  {
   "cell_type": "markdown",
   "id": "81c5d98b-b654-475a-a9f9-4cc367aa5605",
   "metadata": {},
   "source": [
    "## Creating required 'x_test' Data"
   ]
  },
  {
   "cell_type": "code",
   "execution_count": 89,
   "id": "85e8ced1-e24b-4f24-b67b-c6b9bf3bd0ca",
   "metadata": {},
   "outputs": [
    {
     "data": {
      "text/html": [
       "<div>\n",
       "<style scoped>\n",
       "    .dataframe tbody tr th:only-of-type {\n",
       "        vertical-align: middle;\n",
       "    }\n",
       "\n",
       "    .dataframe tbody tr th {\n",
       "        vertical-align: top;\n",
       "    }\n",
       "\n",
       "    .dataframe thead th {\n",
       "        text-align: right;\n",
       "    }\n",
       "</style>\n",
       "<table border=\"1\" class=\"dataframe\">\n",
       "  <thead>\n",
       "    <tr style=\"text-align: right;\">\n",
       "      <th></th>\n",
       "      <th>yr</th>\n",
       "      <th>holiday</th>\n",
       "      <th>temp</th>\n",
       "      <th>windspeed</th>\n",
       "      <th>Spring</th>\n",
       "      <th>Winter</th>\n",
       "      <th>Light_Snow</th>\n",
       "      <th>Mist</th>\n",
       "      <th>Dec</th>\n",
       "      <th>Feb</th>\n",
       "      <th>Jan</th>\n",
       "      <th>Jul</th>\n",
       "      <th>Nov</th>\n",
       "      <th>Sep</th>\n",
       "    </tr>\n",
       "  </thead>\n",
       "  <tbody>\n",
       "    <tr>\n",
       "      <th>566</th>\n",
       "      <td>1</td>\n",
       "      <td>0</td>\n",
       "      <td>0.652175</td>\n",
       "      <td>0.393568</td>\n",
       "      <td>0</td>\n",
       "      <td>0</td>\n",
       "      <td>1</td>\n",
       "      <td>0</td>\n",
       "      <td>0</td>\n",
       "      <td>0</td>\n",
       "      <td>0</td>\n",
       "      <td>1</td>\n",
       "      <td>0</td>\n",
       "      <td>0</td>\n",
       "    </tr>\n",
       "    <tr>\n",
       "      <th>374</th>\n",
       "      <td>1</td>\n",
       "      <td>0</td>\n",
       "      <td>0.276477</td>\n",
       "      <td>0.340487</td>\n",
       "      <td>1</td>\n",
       "      <td>0</td>\n",
       "      <td>0</td>\n",
       "      <td>0</td>\n",
       "      <td>0</td>\n",
       "      <td>0</td>\n",
       "      <td>1</td>\n",
       "      <td>0</td>\n",
       "      <td>0</td>\n",
       "      <td>0</td>\n",
       "    </tr>\n",
       "    <tr>\n",
       "      <th>181</th>\n",
       "      <td>0</td>\n",
       "      <td>0</td>\n",
       "      <td>0.817910</td>\n",
       "      <td>0.165370</td>\n",
       "      <td>0</td>\n",
       "      <td>0</td>\n",
       "      <td>0</td>\n",
       "      <td>0</td>\n",
       "      <td>0</td>\n",
       "      <td>0</td>\n",
       "      <td>0</td>\n",
       "      <td>1</td>\n",
       "      <td>0</td>\n",
       "      <td>0</td>\n",
       "    </tr>\n",
       "    <tr>\n",
       "      <th>529</th>\n",
       "      <td>1</td>\n",
       "      <td>0</td>\n",
       "      <td>0.720868</td>\n",
       "      <td>0.476922</td>\n",
       "      <td>0</td>\n",
       "      <td>0</td>\n",
       "      <td>0</td>\n",
       "      <td>0</td>\n",
       "      <td>0</td>\n",
       "      <td>0</td>\n",
       "      <td>0</td>\n",
       "      <td>0</td>\n",
       "      <td>0</td>\n",
       "      <td>0</td>\n",
       "    </tr>\n",
       "    <tr>\n",
       "      <th>233</th>\n",
       "      <td>0</td>\n",
       "      <td>0</td>\n",
       "      <td>0.777567</td>\n",
       "      <td>0.524373</td>\n",
       "      <td>0</td>\n",
       "      <td>0</td>\n",
       "      <td>0</td>\n",
       "      <td>0</td>\n",
       "      <td>0</td>\n",
       "      <td>0</td>\n",
       "      <td>0</td>\n",
       "      <td>0</td>\n",
       "      <td>0</td>\n",
       "      <td>0</td>\n",
       "    </tr>\n",
       "  </tbody>\n",
       "</table>\n",
       "</div>"
      ],
      "text/plain": [
       "     yr  holiday      temp  windspeed  Spring  Winter  Light_Snow  Mist  Dec  \\\n",
       "566   1        0  0.652175   0.393568       0       0           1     0    0   \n",
       "374   1        0  0.276477   0.340487       1       0           0     0    0   \n",
       "181   0        0  0.817910   0.165370       0       0           0     0    0   \n",
       "529   1        0  0.720868   0.476922       0       0           0     0    0   \n",
       "233   0        0  0.777567   0.524373       0       0           0     0    0   \n",
       "\n",
       "     Feb  Jan  Jul  Nov  Sep  \n",
       "566    0    0    1    0    0  \n",
       "374    0    1    0    0    0  \n",
       "181    0    0    1    0    0  \n",
       "529    0    0    0    0    0  \n",
       "233    0    0    0    0    0  "
      ]
     },
     "execution_count": 89,
     "metadata": {},
     "output_type": "execute_result"
    }
   ],
   "source": [
    "# Making test data using columns choosen by the final model\n",
    "x_test = df_test_X[df_train_X_rfe.columns]\n",
    "x_test.head()"
   ]
  },
  {
   "cell_type": "code",
   "execution_count": 90,
   "id": "76a6c3f3-52f7-4c47-8a58-5f137b9724f4",
   "metadata": {},
   "outputs": [
    {
     "data": {
      "text/plain": [
       "(220, 14)"
      ]
     },
     "execution_count": 90,
     "metadata": {},
     "output_type": "execute_result"
    }
   ],
   "source": [
    "x_test.shape"
   ]
  },
  {
   "cell_type": "markdown",
   "id": "6fac8fb8-1036-4e37-9274-c4867f86469e",
   "metadata": {},
   "source": [
    "## Predictions"
   ]
  },
  {
   "cell_type": "code",
   "execution_count": 91,
   "id": "085a9594-6931-4642-a0cf-1cdf5ab3b4bd",
   "metadata": {},
   "outputs": [],
   "source": [
    "x_test_sm = sm.add_constant(x_test)\n",
    "y_test_pred = lm_2.predict(x_test_sm)"
   ]
  },
  {
   "cell_type": "code",
   "execution_count": 92,
   "id": "a95eccf3-3882-4ab4-bbb4-970e7b713ab0",
   "metadata": {},
   "outputs": [
    {
     "data": {
      "text/plain": [
       "566    3815.540805\n",
       "374    3861.700996\n",
       "181    4698.692581\n",
       "529    6628.977281\n",
       "233    4619.306066\n",
       "dtype: float64"
      ]
     },
     "execution_count": 92,
     "metadata": {},
     "output_type": "execute_result"
    }
   ],
   "source": [
    "y_test_pred.head()"
   ]
  },
  {
   "cell_type": "code",
   "execution_count": 93,
   "id": "b7eb2b70-325b-4ace-812f-acf1159005ac",
   "metadata": {},
   "outputs": [
    {
     "data": {
      "text/plain": [
       "(220,)"
      ]
     },
     "execution_count": 93,
     "metadata": {},
     "output_type": "execute_result"
    }
   ],
   "source": [
    "y_test_pred.shape"
   ]
  },
  {
   "cell_type": "markdown",
   "id": "cf857d8a-8fcd-43ef-8dab-688c83715e73",
   "metadata": {
    "tags": []
   },
   "source": [
    "# Model Evaluation"
   ]
  },
  {
   "cell_type": "markdown",
   "id": "af0d28bd-8e30-4450-a4d7-9e672ff6adb3",
   "metadata": {},
   "source": [
    "## R² & Adjusted R²"
   ]
  },
  {
   "cell_type": "code",
   "execution_count": 96,
   "id": "399f2074-b119-4fd7-80be-76c0daf33024",
   "metadata": {},
   "outputs": [
    {
     "data": {
      "text/plain": [
       "0.8206604038880282"
      ]
     },
     "execution_count": 96,
     "metadata": {},
     "output_type": "execute_result"
    }
   ],
   "source": [
    "# R²\n",
    "from sklearn.metrics import r2_score\n",
    "r_2_value = r2_score(y_true=df_test_y, y_pred=y_test_pred)\n",
    "r_2_value"
   ]
  },
  {
   "cell_type": "code",
   "execution_count": 97,
   "id": "fe3e1e6b-5760-4759-96a2-48c6a727c605",
   "metadata": {},
   "outputs": [
    {
     "name": "stdout",
     "output_type": "stream",
     "text": [
      "0.8084128217145277\n"
     ]
    }
   ],
   "source": [
    "# Adjusted R²\n",
    "\n",
    "'''\n",
    "Adjusted R² = 1 - (1 - R²)(N - 1)\n",
    "                  ---------------\n",
    "                  N - p - 1\n",
    "                  \n",
    "Where, \n",
    "    N: No. of rows\n",
    "    p: No. of predictor variable\n",
    "'''\n",
    "N = x_test.shape[0]\n",
    "p = x_test.shape[1]\n",
    "r_2 = r_2_value\n",
    "\n",
    "adjusted_r_square = 1 - ((1-r_2)*(N-1))/(N-p-1)\n",
    "print(adjusted_r_square)"
   ]
  },
  {
   "cell_type": "markdown",
   "id": "23b1eea2-8bc9-4844-832d-560e68c5d9b6",
   "metadata": {},
   "source": [
    "On the training data, we have '0.84' & '0.83' values for r square & adjusted r square. Since, these values are quite close, therefore, we can say that our model is doing good predictions."
   ]
  },
  {
   "cell_type": "markdown",
   "id": "9ebab172-92d0-4888-a7e9-2cb5b8d6e62c",
   "metadata": {},
   "source": [
    "## Regression plot"
   ]
  },
  {
   "cell_type": "code",
   "execution_count": 111,
   "id": "568984e7-f587-43d0-9c97-da6f2d52faa3",
   "metadata": {},
   "outputs": [
    {
     "data": {
      "image/png": "[encoded data removed]",
      "text/plain": [
       "<Figure size 640x480 with 1 Axes>"
      ]
     },
     "metadata": {},
     "output_type": "display_data"
    }
   ],
   "source": [
    "plt.figure()\n",
    "sns.regplot(x=df_test_y, y=y_test_pred, fit_reg=True, line_kws={'color':'r'})\n",
    "\n",
    "plt.title('Actual Y Values vs Predicted Y Values', fontsize = 16, color='r')               \n",
    "plt.xlabel('Y Test', fontsize = 12)                   \n",
    "plt.ylabel('Y Prediction', fontsize = 12)\n",
    "plt.show()"
   ]
  },
  {
   "cell_type": "markdown",
   "id": "ec80f05d-1e6d-47f6-aed9-fb68aa5e33a8",
   "metadata": {},
   "source": [
    "As we can see that most of the points lie around 'Line of Perfect Fit' and the points forming a good linear pattern, therefore, we can confidently say that our model is making good predictions."
   ]
  },
  {
   "cell_type": "markdown",
   "id": "d8fbe3f1-cb17-42bf-889c-21ada8da9cc3",
   "metadata": {},
   "source": [
    "## Comparision of R² & Adjusted R² values of Train & Test data"
   ]
  },
  {
   "cell_type": "markdown",
   "id": "c5ef06b2-5f9b-498b-84f0-8675d7dad458",
   "metadata": {},
   "source": [
    "                      R²    Adjusted R²\n",
    "    Training Data    0.84     0.83\n",
    "    Test Data        0.82     0.80"
   ]
  },
  {
   "cell_type": "markdown",
   "id": "a6890513-b5dc-46ee-9a94-def01840bf56",
   "metadata": {},
   "source": [
    "Since, R² & Adjusted R² values of both Train & Test data is almost same. Therefore, we can conclude that we have a good model and it 'll make good predictions"
   ]
  },
  {
   "cell_type": "markdown",
   "id": "d8faadee-477d-494e-bf30-376ae890b826",
   "metadata": {},
   "source": [
    "# Conclusion"
   ]
  },
  {
   "cell_type": "markdown",
   "id": "92ca9211-8fe7-45c1-9322-48df352ca4c2",
   "metadata": {},
   "source": [
    "* The company should focus on these top three parameters, in the same order as given below which is based on their coefficient values, which positively impacts our target variable 'cnt' \n",
    "    * temp\n",
    "    * yr\n",
    "    * winter\n",
    "    \n",
    "* The company should also focus on these top three parameters, in the same order as given below, which negatively impacts our target variable 'cnt'\n",
    "    * Light_Snow\n",
    "    * Windspeed\n",
    "    * Spring "
   ]
  }
 ],
 "metadata": {
  "kernelspec": {
   "display_name": "Python 3 (ipykernel)",
   "language": "python",
   "name": "python3"
  },
  "language_info": {
   "codemirror_mode": {
    "name": "ipython",
    "version": 3
   },
   "file_extension": ".py",
   "mimetype": "text/x-python",
   "name": "python",
   "nbconvert_exporter": "python",
   "pygments_lexer": "ipython3",
   "version": "3.9.13"
  }
 },
 "nbformat": 4,
 "nbformat_minor": 5
}
